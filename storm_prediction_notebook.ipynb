{
 "cells": [
  {
   "cell_type": "markdown",
   "metadata": {},
   "source": [
    "# Sounding parameters analysis with regards to Skew T"
   ]
  },
  {
   "cell_type": "markdown",
   "metadata": {},
   "source": [
    "Import all needed libraries for analysis. Matplotlib, pandas and numpy are used for standard data analysis. Urllib and bs4 used for data collection or web scrapping. Siphon is used from Unidata's Library for faster and simpler sounding data collection in pandas format."
   ]
  },
  {
   "cell_type": "code",
   "execution_count": 1,
   "metadata": {
    "collapsed": true
   },
   "outputs": [],
   "source": [
    "from siphon.simplewebservice.wyoming import WyomingUpperAir\n",
    "from datetime import datetime\n",
    "import matplotlib.pyplot as plt\n",
    "from pylab import rcParams\n",
    "import urllib.request\n",
    "from bs4 import BeautifulSoup\n",
    "import re\n",
    "import pandas as pd\n",
    "import numpy as np\n",
    "import math"
   ]
  },
  {
   "cell_type": "markdown",
   "metadata": {},
   "source": [
    "Enter desired date and station number (ID). Data is acquired from Wyoming University Website (http://weather.uwyo.edu/upperair/sounding.html). For more details on available stations, further research on website is recommended. Data for Zagreb is used here (LDDD or 14240) and turbulent stormy day was chosen. Day, month and year data is available for atleast last ten years. Since the soundings are launched only at 0 and 12 UTC, those are only possible numbers for hours. Note: Mistakes are possible, especially regarding comlete sounding data wich could be missing for some days/hours."
   ]
  },
  {
   "cell_type": "code",
   "execution_count": 2,
   "metadata": {
    "collapsed": true
   },
   "outputs": [],
   "source": [
    "date = datetime(2019,7,7,12)\n",
    "station = 'LDDD'"
   ]
  },
  {
   "cell_type": "markdown",
   "metadata": {},
   "source": [
    "Getting data into pandas Dataframe using Siphon Library. Adjusting size for plots. Data used for this analysis (df1) can be seen in table on this link (first table): http://weather.uwyo.edu/cgi-bin/sounding?region=europe&TYPE=TEXT%3ALIST&YEAR=2019&MONTH=07&FROM=0712&TO=0712&STNM=LDDD. "
   ]
  },
  {
   "cell_type": "code",
   "execution_count": 3,
   "metadata": {
    "collapsed": true
   },
   "outputs": [],
   "source": [
    "df1 = WyomingUpperAir.request_data(date,station)\n",
    "\n",
    "rcParams['figure.figsize'] = 16, 10"
   ]
  },
  {
   "cell_type": "markdown",
   "metadata": {},
   "source": [
    "Scrapping data from the same website. Since Siphon only fetches data from sounding, various indices and parameters (same link from above, data under 'Station information and sounding indices') must be scrapped, cleaned and stored manually."
   ]
  },
  {
   "cell_type": "code",
   "execution_count": 6,
   "metadata": {},
   "outputs": [],
   "source": [
    "Year = date.year\n",
    "Month = date.month\n",
    "Day = date.day\n",
    "Hour = date.hour\n",
    "\n",
    "if (date.hour == 0):\n",
    "    url = 'http://weather.uwyo.edu/cgi-bin/sounding?region=europe&TYPE=TEXT%3ALIST&YEAR={Year}&MONTH=0{Month}&FROM=0{Day}0{Hour}&TO=0{Day}0{Hour}&STNM={Station}'.format(Year = Year, Month = Month, Day = Day, Hour = Hour, Station = station)\n",
    "else:\n",
    "    url = 'http://weather.uwyo.edu/cgi-bin/sounding?region=europe&TYPE=TEXT%3ALIST&YEAR={Year}&MONTH=0{Month}&FROM=0{Day}{Hour}&TO=0{Day}{Hour}&STNM={Station}'.format(Year = Year, Month = Month, Day = Day, Hour = Hour, Station = station)\n",
    "\n",
    "response = urllib.request.urlopen(url)\n",
    "html = response.read()\n",
    "\n",
    "soup = BeautifulSoup(html,features=\"lxml\")\n",
    "data = soup.find_all('pre')\n",
    "\n",
    "Sound_data = str(data[1])\n",
    "\n",
    "x = re.findall(r'[-+]?[.]?[\\d].+', Sound_data)\n",
    "\n",
    "x1 = []\n",
    "\n",
    "i = 0\n",
    "for i in range(0, len(x)):\n",
    "    if (i != 1 and 'thickness' not in x[i]):\n",
    "        x[i] = float(x[i])\n",
    "        x1.append(x[i])\n",
    "    i = i + 1\n",
    "    \n",
    "y = ['Station number', 'Station latitude', 'Station longitude', 'Station elevation', \\\n",
    "     'Showalter index', 'Lifted index', 'LIFT computed using virtual temperature', 'SWEAT index', 'K index', \\\n",
    "     'Cross totals index', 'Vertical totals index', 'Totals totals index', 'Convective Available Potential Energy', \\\n",
    "     'CAPE using virtual temperature', 'Convective Inhibition', 'CINS using virtual temperature', 'Equilibrum Level', \\\n",
    "     'Equilibrum Level using virtual temperature', 'Level of Free Convection', 'LFCT using virtual temperature', \\\n",
    "     'Bulk Richardson Number', 'Bulk Richardson Number using CAPV', 'Temp [K] of the Lifted Condensation Level', \\\n",
    "     'Pres [hPa] of the Lifted Condensation Level', 'Mean mixed layer potential temperature', \\\n",
    "     'Mean mixed layer mixing ratio', 'Precipitable water [mm] for entire sounding']\n",
    "\n",
    "y1 = []\n",
    "\n",
    "j = 0\n",
    "for j in range(0, len(y)):\n",
    "    if (y[j] in Sound_data):\n",
    "        y1.append(y[j])\n",
    "    j = j + 1\n",
    "    \n",
    "all_data = {'Parameter': y1, 'Value': x1}\n",
    "df2 = pd.DataFrame(data = all_data)\n"
   ]
  },
  {
   "cell_type": "markdown",
   "metadata": {},
   "source": [
    "If wanted, data can be seen here:"
   ]
  },
  {
   "cell_type": "code",
   "execution_count": 7,
   "metadata": {},
   "outputs": [
    {
     "name": "stdout",
     "output_type": "stream",
     "text": [
      "     pressure  height  temperature  dewpoint  direction  speed     u_wind  \\\n",
      "0       993.0     246         30.6      15.6      290.0    2.0   1.879385   \n",
      "1       992.0     253         28.6      16.6      288.0    2.0   1.902113   \n",
      "2       925.0     747         23.0      14.0      165.0    4.0  -1.035276   \n",
      "3       853.0    1447         16.4      13.0      223.0    2.0   1.363997   \n",
      "4       850.0    1477         16.6      12.5      225.0    2.0   1.414214   \n",
      "5       823.0    1751         14.7      12.7      225.0   10.0   7.071068   \n",
      "6       803.0    1960         13.2      12.8      240.0   10.0   8.660254   \n",
      "7       789.0    2108         12.4      10.9      250.0   10.0   9.396926   \n",
      "8       767.0    2346         11.0       7.9      249.0   12.0  11.202965   \n",
      "9       700.0    3103          5.6       3.9      245.0   19.0  17.219848   \n",
      "10      690.0    3221          4.7       3.1      240.0   21.0  18.186533   \n",
      "11      684.0    3292          4.2       2.7      242.0   22.0  19.424847   \n",
      "12      676.0    3388          3.6      -1.1      245.0   22.0  19.938771   \n",
      "13      643.0    3792          0.2      -3.2      258.0   24.0  23.475542   \n",
      "14      600.0    4342         -3.7     -11.0      275.0   27.0  26.897257   \n",
      "15      583.0    4570         -5.3     -14.3      268.0   29.0  28.982334   \n",
      "16      566.0    4802         -7.3      -9.5      260.0   30.0  29.544233   \n",
      "17      554.0    4968         -8.1     -12.4      255.0   31.0  29.943701   \n",
      "18      527.0    5355         -9.8     -19.3      275.0   31.0  30.882036   \n",
      "19      514.0    5548        -10.7     -22.7      270.0   33.0  33.000000   \n",
      "20      500.0    5760        -12.9     -20.9      265.0   35.0  34.866814   \n",
      "21      498.0    5790        -13.1     -20.7      265.0   35.0  34.866814   \n",
      "22      486.0    5975        -14.5     -19.8      285.0   25.0  24.148146   \n",
      "23      471.0    6212        -16.3     -18.5      274.0   28.0  27.931793   \n",
      "24      466.0    6291        -16.8     -18.9      270.0   29.0  29.000000   \n",
      "25      444.0    6650        -19.2     -20.6      285.0   29.0  28.011849   \n",
      "26      424.0    6991        -21.6     -22.2      270.0   37.0  37.000000   \n",
      "27      416.0    7133        -22.5     -22.9      255.0   29.0  28.011849   \n",
      "28      411.0    7222        -23.1     -23.3      255.0   32.0  30.909626   \n",
      "29      400.0    7420        -24.7     -25.8      255.0   37.0  35.739256   \n",
      "..        ...     ...          ...       ...        ...    ...        ...   \n",
      "82       45.0   21640        -51.7     -86.4      140.0   10.0  -6.427876   \n",
      "83       43.0   21933        -52.5     -86.6      270.0    2.0   2.000000   \n",
      "84       39.0   22561        -54.1     -87.1       32.0    8.0  -4.239354   \n",
      "85       38.0   22729        -53.2     -86.9       65.0   10.0  -9.063078   \n",
      "86       37.0   22901        -52.3     -86.7      120.0   10.0  -8.660254   \n",
      "87       36.0   23078        -51.4     -86.5      110.0   14.0 -13.155697   \n",
      "88       35.0   23260        -50.4     -86.3      125.0   16.0 -13.106433   \n",
      "89       34.9   23278        -50.3     -86.3      125.0   15.0 -12.287281   \n",
      "90       33.0   23642        -50.9     -86.5      130.0   14.0 -10.724622   \n",
      "91       32.0   23841        -51.2     -86.5       85.0   12.0 -11.954336   \n",
      "92       31.0   24047        -51.5     -86.6      105.0   19.0 -18.352591   \n",
      "93       30.4   24174        -51.7     -86.7       99.0   21.0 -20.741455   \n",
      "94       30.0   24260        -51.5     -86.5       95.0   21.0 -20.920089   \n",
      "95       29.0   24482        -51.1     -86.3      100.0   25.0 -24.620194   \n",
      "96       28.0   24713        -50.6     -86.1      140.0   19.0 -12.212965   \n",
      "97       26.0   25199        -49.7     -85.7       85.0   10.0  -9.961947   \n",
      "98       25.0   25456        -49.2     -85.5       80.0   19.0 -18.711347   \n",
      "99       23.0   26003        -48.1     -85.1      105.0   23.0 -22.216294   \n",
      "100      21.0   26600        -46.9     -84.6      115.0   23.0 -20.845079   \n",
      "101      20.0   26920        -46.3     -84.3      120.0   19.0 -16.454483   \n",
      "102      19.0   27262        -46.0     -84.3      125.0   21.0 -17.202193   \n",
      "103      17.0   28002        -45.5     -84.2       80.0   25.0 -24.620194   \n",
      "104      16.0   28406        -45.1     -84.1      100.0   21.0 -20.680963   \n",
      "105      15.9   28447        -45.1     -84.1      100.0   21.0 -20.680963   \n",
      "106      15.0   28843        -43.4     -83.1       95.0   17.0 -16.935310   \n",
      "107      14.0   29311        -41.3     -81.8       90.0   25.0 -25.000000   \n",
      "108      13.0   29814        -39.1     -80.5       70.0   23.0 -21.612930   \n",
      "109      12.3   30190        -37.5     -79.5       80.0   35.0 -34.468271   \n",
      "110      12.0   30360        -37.6     -79.6       85.0   41.0 -40.843983   \n",
      "111      11.8   30476        -37.7     -79.7        NaN    NaN        NaN   \n",
      "\n",
      "           v_wind station  station_number                time  latitude  \\\n",
      "0   -6.840403e-01    LDDD           14240 2019-07-07 12:00:00     45.82   \n",
      "1   -6.180340e-01    LDDD           14240 2019-07-07 12:00:00     45.82   \n",
      "2    3.863703e+00    LDDD           14240 2019-07-07 12:00:00     45.82   \n",
      "3    1.462707e+00    LDDD           14240 2019-07-07 12:00:00     45.82   \n",
      "4    1.414214e+00    LDDD           14240 2019-07-07 12:00:00     45.82   \n",
      "5    7.071068e+00    LDDD           14240 2019-07-07 12:00:00     45.82   \n",
      "6    5.000000e+00    LDDD           14240 2019-07-07 12:00:00     45.82   \n",
      "7    3.420201e+00    LDDD           14240 2019-07-07 12:00:00     45.82   \n",
      "8    4.300415e+00    LDDD           14240 2019-07-07 12:00:00     45.82   \n",
      "9    8.029747e+00    LDDD           14240 2019-07-07 12:00:00     45.82   \n",
      "10   1.050000e+01    LDDD           14240 2019-07-07 12:00:00     45.82   \n",
      "11   1.032837e+01    LDDD           14240 2019-07-07 12:00:00     45.82   \n",
      "12   9.297602e+00    LDDD           14240 2019-07-07 12:00:00     45.82   \n",
      "13   4.989881e+00    LDDD           14240 2019-07-07 12:00:00     45.82   \n",
      "14  -2.353205e+00    LDDD           14240 2019-07-07 12:00:00     45.82   \n",
      "15   1.012085e+00    LDDD           14240 2019-07-07 12:00:00     45.82   \n",
      "16   5.209445e+00    LDDD           14240 2019-07-07 12:00:00     45.82   \n",
      "17   8.023390e+00    LDDD           14240 2019-07-07 12:00:00     45.82   \n",
      "18  -2.701828e+00    LDDD           14240 2019-07-07 12:00:00     45.82   \n",
      "19   6.062002e-15    LDDD           14240 2019-07-07 12:00:00     45.82   \n",
      "20   3.050451e+00    LDDD           14240 2019-07-07 12:00:00     45.82   \n",
      "21   3.050451e+00    LDDD           14240 2019-07-07 12:00:00     45.82   \n",
      "22  -6.470476e+00    LDDD           14240 2019-07-07 12:00:00     45.82   \n",
      "23  -1.953181e+00    LDDD           14240 2019-07-07 12:00:00     45.82   \n",
      "24   5.327214e-15    LDDD           14240 2019-07-07 12:00:00     45.82   \n",
      "25  -7.505752e+00    LDDD           14240 2019-07-07 12:00:00     45.82   \n",
      "26   6.796790e-15    LDDD           14240 2019-07-07 12:00:00     45.82   \n",
      "27   7.505752e+00    LDDD           14240 2019-07-07 12:00:00     45.82   \n",
      "28   8.282209e+00    LDDD           14240 2019-07-07 12:00:00     45.82   \n",
      "29   9.576305e+00    LDDD           14240 2019-07-07 12:00:00     45.82   \n",
      "..            ...     ...             ...                 ...       ...   \n",
      "82   7.660444e+00    LDDD           14240 2019-07-07 12:00:00     45.82   \n",
      "83   3.673940e-16    LDDD           14240 2019-07-07 12:00:00     45.82   \n",
      "84  -6.784385e+00    LDDD           14240 2019-07-07 12:00:00     45.82   \n",
      "85  -4.226183e+00    LDDD           14240 2019-07-07 12:00:00     45.82   \n",
      "86   5.000000e+00    LDDD           14240 2019-07-07 12:00:00     45.82   \n",
      "87   4.788282e+00    LDDD           14240 2019-07-07 12:00:00     45.82   \n",
      "88   9.177223e+00    LDDD           14240 2019-07-07 12:00:00     45.82   \n",
      "89   8.603647e+00    LDDD           14240 2019-07-07 12:00:00     45.82   \n",
      "90   8.999027e+00    LDDD           14240 2019-07-07 12:00:00     45.82   \n",
      "91  -1.045869e+00    LDDD           14240 2019-07-07 12:00:00     45.82   \n",
      "92   4.917562e+00    LDDD           14240 2019-07-07 12:00:00     45.82   \n",
      "93   3.285124e+00    LDDD           14240 2019-07-07 12:00:00     45.82   \n",
      "94   1.830271e+00    LDDD           14240 2019-07-07 12:00:00     45.82   \n",
      "95   4.341204e+00    LDDD           14240 2019-07-07 12:00:00     45.82   \n",
      "96   1.455484e+01    LDDD           14240 2019-07-07 12:00:00     45.82   \n",
      "97  -8.715574e-01    LDDD           14240 2019-07-07 12:00:00     45.82   \n",
      "98  -3.299315e+00    LDDD           14240 2019-07-07 12:00:00     45.82   \n",
      "99   5.952838e+00    LDDD           14240 2019-07-07 12:00:00     45.82   \n",
      "100  9.720220e+00    LDDD           14240 2019-07-07 12:00:00     45.82   \n",
      "101  9.500000e+00    LDDD           14240 2019-07-07 12:00:00     45.82   \n",
      "102  1.204511e+01    LDDD           14240 2019-07-07 12:00:00     45.82   \n",
      "103 -4.341204e+00    LDDD           14240 2019-07-07 12:00:00     45.82   \n",
      "104  3.646612e+00    LDDD           14240 2019-07-07 12:00:00     45.82   \n",
      "105  3.646612e+00    LDDD           14240 2019-07-07 12:00:00     45.82   \n",
      "106  1.481648e+00    LDDD           14240 2019-07-07 12:00:00     45.82   \n",
      "107 -1.530808e-15    LDDD           14240 2019-07-07 12:00:00     45.82   \n",
      "108 -7.866463e+00    LDDD           14240 2019-07-07 12:00:00     45.82   \n",
      "109 -6.077686e+00    LDDD           14240 2019-07-07 12:00:00     45.82   \n",
      "110 -3.573385e+00    LDDD           14240 2019-07-07 12:00:00     45.82   \n",
      "111           NaN    LDDD           14240 2019-07-07 12:00:00     45.82   \n",
      "\n",
      "     longitude  elevation  \n",
      "0        16.03      246.0  \n",
      "1        16.03      246.0  \n",
      "2        16.03      246.0  \n",
      "3        16.03      246.0  \n",
      "4        16.03      246.0  \n",
      "5        16.03      246.0  \n",
      "6        16.03      246.0  \n",
      "7        16.03      246.0  \n",
      "8        16.03      246.0  \n",
      "9        16.03      246.0  \n",
      "10       16.03      246.0  \n",
      "11       16.03      246.0  \n",
      "12       16.03      246.0  \n",
      "13       16.03      246.0  \n",
      "14       16.03      246.0  \n",
      "15       16.03      246.0  \n",
      "16       16.03      246.0  \n",
      "17       16.03      246.0  \n",
      "18       16.03      246.0  \n",
      "19       16.03      246.0  \n",
      "20       16.03      246.0  \n",
      "21       16.03      246.0  \n",
      "22       16.03      246.0  \n",
      "23       16.03      246.0  \n",
      "24       16.03      246.0  \n",
      "25       16.03      246.0  \n",
      "26       16.03      246.0  \n",
      "27       16.03      246.0  \n",
      "28       16.03      246.0  \n",
      "29       16.03      246.0  \n",
      "..         ...        ...  \n",
      "82       16.03      246.0  \n",
      "83       16.03      246.0  \n",
      "84       16.03      246.0  \n",
      "85       16.03      246.0  \n",
      "86       16.03      246.0  \n",
      "87       16.03      246.0  \n",
      "88       16.03      246.0  \n",
      "89       16.03      246.0  \n",
      "90       16.03      246.0  \n",
      "91       16.03      246.0  \n",
      "92       16.03      246.0  \n",
      "93       16.03      246.0  \n",
      "94       16.03      246.0  \n",
      "95       16.03      246.0  \n",
      "96       16.03      246.0  \n",
      "97       16.03      246.0  \n",
      "98       16.03      246.0  \n",
      "99       16.03      246.0  \n",
      "100      16.03      246.0  \n",
      "101      16.03      246.0  \n",
      "102      16.03      246.0  \n",
      "103      16.03      246.0  \n",
      "104      16.03      246.0  \n",
      "105      16.03      246.0  \n",
      "106      16.03      246.0  \n",
      "107      16.03      246.0  \n",
      "108      16.03      246.0  \n",
      "109      16.03      246.0  \n",
      "110      16.03      246.0  \n",
      "111      16.03      246.0  \n",
      "\n",
      "[112 rows x 14 columns]\n",
      "                                      Parameter     Value\n",
      "0                                Station number  14240.00\n",
      "1                              Station latitude     45.82\n",
      "2                             Station longitude     16.03\n",
      "3                             Station elevation    246.00\n",
      "4                               Showalter index     -4.30\n",
      "5                                  Lifted index     -4.76\n",
      "6       LIFT computed using virtual temperature     -5.20\n",
      "7                                   SWEAT index    306.85\n",
      "8                                       K index     40.30\n",
      "9                            Cross totals index     25.40\n",
      "10                        Vertical totals index     29.50\n",
      "11                          Totals totals index     54.90\n",
      "12        Convective Available Potential Energy   1141.36\n",
      "13               CAPE using virtual temperature   1215.46\n",
      "14                        Convective Inhibition    -45.93\n",
      "15               CINS using virtual temperature    -39.88\n",
      "16                             Equilibrum Level    249.08\n",
      "17   Equilibrum Level using virtual temperature    249.04\n",
      "18                     Level of Free Convection    737.70\n",
      "19               LFCT using virtual temperature    747.26\n",
      "20                       Bulk Richardson Number     40.67\n",
      "21            Bulk Richardson Number using CAPV     43.32\n",
      "22    Temp [K] of the Lifted Condensation Level    286.06\n",
      "23  Pres [hPa] of the Lifted Condensation Level    821.41\n",
      "24       Mean mixed layer potential temperature    302.64\n",
      "25                Mean mixed layer mixing ratio     11.55\n",
      "26  Precipitable water [mm] for entire sounding     40.88\n"
     ]
    }
   ],
   "source": [
    "print(df1)\n",
    "print(df2)"
   ]
  },
  {
   "cell_type": "markdown",
   "metadata": {},
   "source": [
    "Now, when our data is ready, comes the fun part. \n",
    "\n",
    "Expected weather type is divided in four categories regarding their strength and attributes when present. Each type gets or loses points if certain conditions are met. When all points are added for each type, at the end of calculation points are divided by maximum possible points for each type of weather. In that way we get percentage of realization which can then be divided into four groups (low chance,likely,high chance). For starters, all are initialised to zero.\n",
    "\n",
    "Categories:\n",
    "\n",
    "1. No storms - Low chance for any kind of storm, including showers. Regardless of that, weather can still be cloudy or even rainy (snowy).\n",
    "\n",
    "2. Thunderstorms - Weak convective process with showers and probably some thunder. Small hail and stronger wind gusts possible if certain conditions are met (rarely).\n",
    "\n",
    "3. Severe storms - Medium to strong convective processes with (heavy) showers, thunderstorms, strong wind gusts, (bigger) hail. \n",
    "\n",
    "4. Supercells - (Very) strong convective processes with possible extremly heavy rain, big hail, very high wind and even tornado. \n"
   ]
  },
  {
   "cell_type": "code",
   "execution_count": 8,
   "metadata": {},
   "outputs": [],
   "source": [
    "no_storms = 0\n",
    "weak_storms = 0\n",
    "moderate_storms = 0\n",
    "strong_storms = 0\n",
    "supercells = 0\n",
    "\n"
   ]
  },
  {
   "cell_type": "markdown",
   "metadata": {},
   "source": [
    "1. Lifted index"
   ]
  },
  {
   "cell_type": "code",
   "execution_count": 9,
   "metadata": {},
   "outputs": [],
   "source": [
    "LI = int(df2[df2['Parameter']=='LIFT computed using virtual temperature'].index.values.astype(int)[0])\n",
    "\n",
    "if (df2.iloc[LI]['Value'] < -6):\n",
    "    strong_storms = strong_storms + 2\n",
    "    moderate_storms = moderate_storms + 2\n",
    "        \n",
    "elif (df2.iloc[LI]['Value'] < -3 and df2.iloc[LI]['Value'] >= -6):\n",
    "    strong_storms = strong_storms + 1\n",
    "    moderate_storms = moderate_storms + 1\n",
    "    \n",
    "elif (df2.iloc[LI]['Value'] < 0 and df2.iloc[LI]['Value'] >= -3):\n",
    "    moderate_storms = moderate_storms + 1\n",
    "\n",
    "else:\n",
    "    strong_storms = strong_storms - 1\n",
    "    moderate_storms = moderate_storms - 1\n",
    "    no_storms = no_storms + 1\n",
    "\n"
   ]
  },
  {
   "cell_type": "markdown",
   "metadata": {},
   "source": [
    "2. SWEAT Index"
   ]
  },
  {
   "cell_type": "code",
   "execution_count": 10,
   "metadata": {},
   "outputs": [],
   "source": [
    "sweat = int(df2[df2['Parameter']=='SWEAT index'].index.values.astype(int)[0])\n",
    "\n",
    "if (df2.iloc[sweat]['Value'] >= 400):\n",
    "    supercells = supercells + 2\n",
    "    strong_storms = strong_storms + 3\n",
    "elif (df2.iloc[sweat]['Value'] >= 300 and df2.iloc[sweat]['Value'] < 400):\n",
    "    supercells = supercells + 1\n",
    "    strong_storms = strong_storms + 2\n",
    "elif (df2.iloc[sweat]['Value'] >= 150 and df2.iloc[sweat]['Value'] < 300):\n",
    "    strong_storms = strong_storms + 1\n",
    "else:\n",
    "    supercells = supercells - 1\n",
    "    strong_storms = strong_storms - 1"
   ]
  },
  {
   "cell_type": "markdown",
   "metadata": {},
   "source": [
    "3. K Index"
   ]
  },
  {
   "cell_type": "code",
   "execution_count": 11,
   "metadata": {},
   "outputs": [],
   "source": [
    "KI = int(df2[df2['Parameter']=='K index'].index.values.astype(int)[0])\n",
    "    \n",
    "if (df2.iloc[KI]['Value'] >= 40):\n",
    "    strong_storms = strong_storms + 2\n",
    "    moderate_storms = moderate_storms + 2\n",
    "elif (df2.iloc[KI]['Value'] >= 20 and df2.iloc[KI]['Value'] < 40):\n",
    "    strong_storms = strong_storms + 1\n",
    "    moderate_storms = moderate_storms + 1\n",
    "else:\n",
    "    strong_storms = strong_storms - 1\n",
    "    moderate_storms = moderate_storms - 1\n",
    "    no_storms = no_storms + 1"
   ]
  },
  {
   "cell_type": "markdown",
   "metadata": {},
   "source": [
    "4. TT Index"
   ]
  },
  {
   "cell_type": "code",
   "execution_count": 12,
   "metadata": {},
   "outputs": [],
   "source": [
    "TT = int(df2[df2['Parameter']=='Totals totals index'].index.values.astype(int)[0])\n",
    "    \n",
    "if (df2.iloc[TT]['Value'] >= 53):\n",
    "    supercells = supercells + 2\n",
    "    strong_storms = strong_storms + 2\n",
    "elif (df2.iloc[TT]['Value'] >= 51 and df2.iloc[TT]['Value'] < 53):\n",
    "    supercells = supercells + 1\n",
    "    strong_storms = strong_storms + 1\n",
    "    moderate_storms = moderate_storms + 1\n",
    "elif (df2.iloc[TT]['Value'] >= 44 and df2.iloc[TT]['Value'] < 50):\n",
    "    supercells = supercells - 1\n",
    "    strong_storms = strong_storms - 1\n",
    "    moderate_storms = moderate_storms + 1\n",
    "else:\n",
    "    supercells = supercells - 2\n",
    "    strong_storms = strong_storms - 2\n",
    "    moderate_storms = moderate_storms - 1\n",
    "    no_storms = no_storms + 1  \n"
   ]
  },
  {
   "cell_type": "markdown",
   "metadata": {},
   "source": [
    "5. CAPE and Shear 0-6 km"
   ]
  },
  {
   "cell_type": "code",
   "execution_count": 13,
   "metadata": {},
   "outputs": [],
   "source": [
    "CAPE = int(df2[df2['Parameter']=='CAPE using virtual temperature'].index.values.astype(int)[0])\n",
    "\n",
    "six = int(df1[df1['height'] >= 6000].index[0])\n",
    "kut_0km = df1['direction'].iloc[0]\n",
    "kut_6km = df1['direction'].iloc[six]\n",
    "brzina_0km_x = df1['speed'].iloc[0] * math.cos(math.radians(-kut_0km+90))\n",
    "brzina_0km_y = df1['speed'].iloc[0] * math.sin(math.radians(-kut_0km+90))\n",
    "brzina_6km_x = df1['speed'].iloc[six] * math.cos(math.radians(-kut_6km+90))\n",
    "brzina_6km_y = df1['speed'].iloc[six] * math.sin(math.radians(-kut_6km+90))\n",
    "shear = 0.514*(math.sqrt((brzina_6km_x-brzina_0km_x)**2+(brzina_6km_y-brzina_0km_y)**2))\n",
    "\n",
    "if (df2.iloc[CAPE]['Value'] >= 2000):\n",
    "    if (shear >= 20):\n",
    "        supercells = supercells + 7\n",
    "        strong_storms = strong_storms + 7\n",
    "    elif (shear >= 15 and shear < 20):\n",
    "        supercells = supercells + 6\n",
    "        strong_storms = strong_storms + 6\n",
    "    elif (shear >= 10 and shear < 15):\n",
    "        supercells = supercells + 3\n",
    "        strong_storms = strong_storms + 5\n",
    "    else:\n",
    "        strong_storms = strong_storms + 3\n",
    "        supercells = supercells - 3\n",
    "    moderate_storms = moderate_storms + 1\n",
    "    \n",
    "elif (df2.iloc[CAPE]['Value'] >= 1500 and df2.iloc[CAPE]['Value'] < 2000):\n",
    "    if (shear >= 20):\n",
    "        supercells = supercells + 6\n",
    "        strong_storms = strong_storms + 6\n",
    "    elif (shear >= 14.9 and shear < 20):\n",
    "        supercells = supercells + 5\n",
    "        strong_storms = strong_storms + 5\n",
    "    elif (shear >= 10 and shear < 14.9):\n",
    "        supercells = supercells + 3\n",
    "        strong_storms = strong_storms + 4\n",
    "    else:\n",
    "        strong_storms = strong_storms + 2\n",
    "        supercells = supercells - 3\n",
    "    moderate_storms = moderate_storms + 1\n",
    "    \n",
    "elif (df2.iloc[CAPE]['Value'] >= 1000 and df2.iloc[CAPE]['Value'] < 1500):\n",
    "    if (shear >= 20):\n",
    "        supercells = supercells + 5\n",
    "        strong_storms = strong_storms + 5\n",
    "    elif (shear >= 15 and shear <= 20):\n",
    "        supercells = supercells + 4\n",
    "        strong_storms = strong_storms + 4\n",
    "    elif (shear >= 10 and shear <= 15):\n",
    "        supercells = supercells + 2\n",
    "        strong_storms = strong_storms + 3\n",
    "    else:\n",
    "        strong_storms = strong_storms + 1\n",
    "        supercells = supercells - 3\n",
    "    moderate_storms = moderate_storms + 1\n",
    "    \n",
    "elif (df2.iloc[CAPE]['Value'] >= 500 and df2.iloc[CAPE]['Value'] < 1000):\n",
    "    if (shear >= 20):\n",
    "        supercells = supercells + 4\n",
    "        strong_storms = strong_storms + 4\n",
    "    elif (shear >= 15 and shear <= 20):\n",
    "        supercells = supercells + 3\n",
    "        strong_storms = strong_storms + 3\n",
    "    elif (shear >= 10 and shear <= 15):\n",
    "        strong_storms = strong_storms + 2\n",
    "        supercells = supercells - 1\n",
    "    else:\n",
    "        strong_storms = strong_storms - 1\n",
    "        supercells = supercells - 3\n",
    "    moderate_storms = moderate_storms + 1\n",
    "    \n",
    "elif (df2.iloc[CAPE]['Value'] >= 70 and df2.iloc[CAPE]['Value'] < 500):\n",
    "    if (shear >= 20):\n",
    "        supercells = supercells + 3\n",
    "        strong_storms = strong_storms + 3\n",
    "        moderate_storms = moderate_storms + 2\n",
    "    elif (shear >= 15 and shear <= 20):\n",
    "        strong_storms = strong_storms + 2\n",
    "        supercells = supercells - 1\n",
    "        moderate_storms = moderate_storms + 2\n",
    "    elif (shear >= 10 and shear <= 15):\n",
    "        moderate_storms = moderate_storms + 1\n",
    "        supercells = supercells - 3\n",
    "    else:\n",
    "        strong_storms = strong_storms - 1\n",
    "        supercells = supercells - 4\n",
    "        no_storms = no_storms + 1\n",
    "        \n",
    "elif (df2.iloc[CAPE]['Value'] < 70):\n",
    "    if (shear >= 20):\n",
    "        strong_storms = strong_storms + 2\n",
    "        moderate_storms = moderate_storms + 2\n",
    "    elif (shear >= 15 and shear <= 20):\n",
    "        supercells = supercells - 1\n",
    "        moderate_storms = moderate_storms + 1\n",
    "    else:\n",
    "        supercells = supercells - 3\n",
    "        strong_storms = strong_storms - 2\n",
    "        no_storms = no_storms + 1"
   ]
  },
  {
   "cell_type": "markdown",
   "metadata": {},
   "source": [
    "6. CIN"
   ]
  },
  {
   "cell_type": "code",
   "execution_count": 14,
   "metadata": {},
   "outputs": [],
   "source": [
    "CIN = int(df2[df2['Parameter']=='CINS using virtual temperature'].index.values.astype(int)[0])\n",
    "    \n",
    "if (df2.iloc[CIN]['Value'] <= -130 and df2.iloc[CAPE]['Value'] < 500):\n",
    "    supercells = supercells - 3\n",
    "    strong_storms = strong_storms - 3\n",
    "    moderate_storms = moderate_storms - 3\n",
    "    no_storms = no_storms + 3\n",
    "elif (df2.iloc[CIN]['Value'] <= -130 and df2.iloc[CAPE]['Value'] > 500):\n",
    "    supercells = supercells - 2\n",
    "    strong_storms = strong_storms - 2\n",
    "    moderate_storms = moderate_storms - 2\n",
    "    no_storms = no_storms + 2\n",
    "elif (df2.iloc[CIN]['Value'] <= -50 and df2.iloc[CIN]['Value'] > -130 and df2.iloc[CAPE]['Value'] < 200):\n",
    "    supercells = supercells - 3\n",
    "    strong_storms = strong_storms - 3\n",
    "    moderate_storms = moderate_storms - 3\n",
    "    no_storms = no_storms + 3\n",
    "elif (df2.iloc[CIN]['Value'] <= -50 and df2.iloc[CIN]['Value'] > -130 and df2.iloc[CAPE]['Value'] > 200):\n",
    "    supercells = supercells - 2\n",
    "    strong_storms = strong_storms - 2\n",
    "    moderate_storms = moderate_storms - 2\n",
    "    no_storms = no_storms + 2\n",
    "elif (df2.iloc[CIN]['Value'] > -50 and df2.iloc[CAPE]['Value'] < 90):\n",
    "    supercells = supercells - 3\n",
    "    strong_storms = strong_storms - 3\n",
    "    moderate_storms = moderate_storms - 3\n",
    "    no_storms = no_storms + 3\n",
    "elif (df2.iloc[CIN]['Value'] > -50 and df2.iloc[CAPE]['Value'] > 90 and df2.iloc[CAPE]['Value'] < 500):\n",
    "    supercells = supercells - 1\n",
    "    moderate_storms = moderate_storms + 1\n",
    "else:\n",
    "    supercells = supercells + 1\n",
    "    strong_storms = strong_storms + 1\n",
    "    moderate_storms = moderate_storms + 1"
   ]
  },
  {
   "cell_type": "markdown",
   "metadata": {},
   "source": [
    "7. Level of Free Convection"
   ]
  },
  {
   "cell_type": "code",
   "execution_count": 15,
   "metadata": {},
   "outputs": [],
   "source": [
    "LFCT = int(df2[df2['Parameter']=='LFCT using virtual temperature'].index.values.astype(int)[0])\n",
    "\n",
    "pom = int(df1[df1['pressure'] <= df2.iloc[LFCT]['Value']].index[0])\n",
    "LFCT_level = df1['height'].iloc[pom]\n",
    "\n",
    "if (LFCT_level < 3150 and (moderate_storms >= 4 or strong_storms >= 6 or supercells >= 3)):\n",
    "    moderate_storms = moderate_storms + 1\n",
    "    strong_storms = strong_storms + 1\n",
    "    supercells = supercells + 1"
   ]
  },
  {
   "cell_type": "markdown",
   "metadata": {},
   "source": [
    "No storms sign - add more points to that category."
   ]
  },
  {
   "cell_type": "code",
   "execution_count": 16,
   "metadata": {},
   "outputs": [],
   "source": [
    "if (moderate_storms <= 3 and strong_storms <= 0 and supercells <= 0):\n",
    "    no_storms = no_storms + 2"
   ]
  },
  {
   "cell_type": "markdown",
   "metadata": {},
   "source": [
    "Determine percentage chance for each category by dividing its number of points with maximum available points."
   ]
  },
  {
   "cell_type": "code",
   "execution_count": 17,
   "metadata": {},
   "outputs": [],
   "source": [
    "x = ['No storms', 'Thunderstorms', 'Severe storms', 'Supercells']\n",
    "index = np.arange(len(x))     \n",
    "y = [no_storms/9*100, moderate_storms/9*100, strong_storms/18*100, supercells/13*100]\n",
    "for j in range(0, len(y)):\n",
    "    if (y[j] < 0):\n",
    "        y[j] = 0"
   ]
  },
  {
   "cell_type": "markdown",
   "metadata": {},
   "source": [
    "Plot data:"
   ]
  },
  {
   "cell_type": "code",
   "execution_count": 19,
   "metadata": {},
   "outputs": [
    {
     "data": {
      "image/png": "[encoded data removed]",
      "text/plain": [
       "<Figure size 1152x720 with 1 Axes>"
      ]
     },
     "metadata": {
      "needs_background": "light"
     },
     "output_type": "display_data"
    }
   ],
   "source": [
    "plt.bar(index, y, align='center', color=['green', 'yellow', 'orange', 'red'],  edgecolor='blue')\n",
    "plt.xticks(index, x, fontsize = 20)\n",
    "plt.yticks(np.arange(0, 105, 5), fontsize = 20)\n",
    "plt.axhline(30, color=\"black\", linestyle='dashed')\n",
    "plt.text(3.65, 15, \"     Low \\nchance\", va='center', ha=\"left\",  fontsize = 15)\n",
    "plt.axhline(70, color=\"black\", linestyle='dashed')\n",
    "plt.text(3.65, 50, \"   Medium \\nchance\", va='center', ha=\"left\", fontsize = 15)\n",
    "plt.text(3.65, 85, \"    High \\nchance\", va='center', ha=\"left\", fontsize = 15)\n",
    "a = 'Storm track for {day}.{month}.{year}. at {hour} UTC'.format(day = date.day, month = date.month, year = date.year, hour = date.hour)\n",
    "plt.title(a, fontsize = 30)\n",
    "plt.grid()"
   ]
  },
  {
   "cell_type": "markdown",
   "metadata": {},
   "source": [
    "Results are pretty good, sounding area had very unstable afternoon that day. \n",
    "\n",
    "Skew T can be seen here:\n",
    "\n",
    "http://weather.uwyo.edu/cgi-bin/sounding?region=europe&TYPE=GIF%3ASKEWT&YEAR=2019&MONTH=07&FROM=0712&TO=0712&STNM=LDDD"
   ]
  }
 ],
 "metadata": {
  "kernelspec": {
   "display_name": "Python 3",
   "language": "python",
   "name": "python3"
  },
  "language_info": {
   "codemirror_mode": {
    "name": "ipython",
    "version": 3
   },
   "file_extension": ".py",
   "mimetype": "text/x-python",
   "name": "python",
   "nbconvert_exporter": "python",
   "pygments_lexer": "ipython3",
   "version": "3.6.8"
  }
 },
 "nbformat": 4,
 "nbformat_minor": 2
}
