{
 "cells": [
  {
   "cell_type": "markdown",
   "metadata": {},
   "source": [
    "# Sounding parameters automatic analysis with regards to Skew T"
   ]
  },
  {
   "cell_type": "markdown",
   "metadata": {},
   "source": [
    "## Data aquisition and processing"
   ]
  },
  {
   "cell_type": "markdown",
   "metadata": {},
   "source": [
    "Import all needed libraries for analysis. Matplotlib, pandas and numpy are used for standard data analysis. Urllib, bs4 and re are used for web scrapping data collection and processing. Siphon is used from Unidata's Library for faster and simpler sounding data collection in pandas format."
   ]
  },
  {
   "cell_type": "code",
   "execution_count": 1,
   "metadata": {},
   "outputs": [],
   "source": [
    "from siphon.simplewebservice.wyoming import WyomingUpperAir\n",
    "from datetime import datetime\n",
    "import matplotlib.pyplot as plt\n",
    "from pylab import rcParams\n",
    "import urllib.request\n",
    "from bs4 import BeautifulSoup\n",
    "import re\n",
    "import pandas as pd\n",
    "import numpy as np\n",
    "import math"
   ]
  },
  {
   "cell_type": "markdown",
   "metadata": {},
   "source": [
    "Enter desired date and station number (ID). Data is acquired from Wyoming University Website ( http://weather.uwyo.edu/upperair/sounding.html ). For more details on available stations, further research on website is recommended. Data for Zagreb is used here (ID = LDDD or 14240) and turbulent stormy day was chosen (7.7.2019.). Day, month and year data is available for atleast last ten years. Since the soundings are launched only at 0 and 12 UTC, those are only possible values for hours. Note: Mistakes are possible, especially regarding comlete sounding data which could be missing for some days/hours."
   ]
  },
  {
   "cell_type": "code",
   "execution_count": 2,
   "metadata": {},
   "outputs": [],
   "source": [
    "date = datetime(2019,7,7,12)\n",
    "station = 'LDDD'"
   ]
  },
  {
   "cell_type": "markdown",
   "metadata": {},
   "source": [
    "Getting data into pandas Dataframe using Siphon Library. Adjusting size for plots. Data used for this analysis (df1) can be seen on this link (first table): http://weather.uwyo.edu/cgi-bin/sounding?region=europe&TYPE=TEXT%3ALIST&YEAR=2019&MONTH=07&FROM=0712&TO=0712&STNM=LDDD. "
   ]
  },
  {
   "cell_type": "code",
   "execution_count": 3,
   "metadata": {},
   "outputs": [],
   "source": [
    "df1 = WyomingUpperAir.request_data(date,station)"
   ]
  },
  {
   "cell_type": "markdown",
   "metadata": {},
   "source": [
    "Scrapping data from the same website. Since Siphon only fetches data from sounding levels (df1), various indices and parameters (same link from above, data under 'Station information and sounding indices') must be scrapped, cleaned and stored manually to dataframe df2. "
   ]
  },
  {
   "cell_type": "code",
   "execution_count": 4,
   "metadata": {},
   "outputs": [],
   "source": [
    "Year = date.year\n",
    "Month = date.month\n",
    "Day = date.day\n",
    "Hour = date.hour\n",
    "\n",
    "if (date.hour == 0):\n",
    "    url = 'http://weather.uwyo.edu/cgi-bin/sounding?region=europe&TYPE=TEXT%3ALIST&YEAR={Year}&MONTH=0{Month}&FROM=0{Day}0{Hour}&TO=0{Day}0{Hour}&STNM={Station}'.format(Year = Year, Month = Month, Day = Day, Hour = Hour, Station = station)\n",
    "else:\n",
    "    url = 'http://weather.uwyo.edu/cgi-bin/sounding?region=europe&TYPE=TEXT%3ALIST&YEAR={Year}&MONTH=0{Month}&FROM=0{Day}{Hour}&TO=0{Day}{Hour}&STNM={Station}'.format(Year = Year, Month = Month, Day = Day, Hour = Hour, Station = station)\n",
    "\n",
    "response = urllib.request.urlopen(url)\n",
    "html = response.read()\n",
    "\n",
    "soup = BeautifulSoup(html,features=\"lxml\")\n",
    "data = soup.find_all('pre')\n",
    "\n",
    "Sound_data = str(data[1])\n",
    "\n",
    "x = re.findall(r'[-+]?[.]?[\\d].+', Sound_data)\n",
    "\n",
    "x1 = []\n",
    "\n",
    "i = 0\n",
    "for i in range(0, len(x)):\n",
    "    if (i != 1 and 'thickness' not in x[i]):\n",
    "        x[i] = float(x[i])\n",
    "        x1.append(x[i])\n",
    "    i = i + 1\n",
    "    \n",
    "y = ['Station number', 'Station latitude', 'Station longitude', 'Station elevation', \\\n",
    "     'Showalter index', 'Lifted index', 'LIFT computed using virtual temperature', 'SWEAT index', 'K index', \\\n",
    "     'Cross totals index', 'Vertical totals index', 'Totals totals index', 'Convective Available Potential Energy', \\\n",
    "     'CAPE using virtual temperature', 'Convective Inhibition', 'CINS using virtual temperature', 'Equilibrum Level', \\\n",
    "     'Equilibrum Level using virtual temperature', 'Level of Free Convection', 'LFCT using virtual temperature', \\\n",
    "     'Bulk Richardson Number', 'Bulk Richardson Number using CAPV', 'Temp [K] of the Lifted Condensation Level', \\\n",
    "     'Pres [hPa] of the Lifted Condensation Level', 'Mean mixed layer potential temperature', \\\n",
    "     'Mean mixed layer mixing ratio', 'Precipitable water [mm] for entire sounding']\n",
    "\n",
    "y1 = []\n",
    "\n",
    "j = 0\n",
    "for j in range(0, len(y)):\n",
    "    if (y[j] in Sound_data):\n",
    "        y1.append(y[j])\n",
    "    j = j + 1\n",
    "    \n",
    "all_data = {'Parameter': y1, 'Value': x1}\n",
    "df2 = pd.DataFrame(data = all_data)\n"
   ]
  },
  {
   "cell_type": "markdown",
   "metadata": {},
   "source": [
    "## Storm classification and rules of the game"
   ]
  },
  {
   "cell_type": "markdown",
   "metadata": {},
   "source": [
    "Now, when our data is ready, comes the fun part. \n",
    "\n",
    "Expected weather type is divided in four categories regarding their strength and attributes when present. \n",
    "\n",
    "Categories:\n",
    "\n",
    "1. No storms - Low chance for any kind of storm, maybe weak showers possible. Regardless of that, weather can still be cloudy or even rainy (snowy).\n",
    "\n",
    "2. Thunderstorms - Weak convective processes with showers and probably some thunder. Small hail and stronger wind gusts possible if certain conditions are met (rarely).\n",
    "\n",
    "3. Severe storms - Medium to strong convective processes with (heavy) rain, thunderstorms, strong wind gusts, (bigger) hail. \n",
    "\n",
    "4. Supercells - (Very) strong convective processes with possible extremly heavy rain, big hail, very high winds and even tornado. \n",
    "\n",
    "Each type gets or loses points if certain conditions are met. At the end of calculation, points gained for each type are divided by maximum possible points for each type of weather. In that way we get percentage of realization which can then be divided into three groups (low chance, medium chance, high chance). \n",
    "\n",
    "For starters, all are initialised to zero.\n"
   ]
  },
  {
   "cell_type": "code",
   "execution_count": 5,
   "metadata": {},
   "outputs": [],
   "source": [
    "no_storms = 0\n",
    "moderate_storms = 0\n",
    "strong_storms = 0\n",
    "supercells = 0"
   ]
  },
  {
   "cell_type": "markdown",
   "metadata": {},
   "source": [
    "#### Lifted Index (LI)"
   ]
  },
  {
   "cell_type": "markdown",
   "metadata": {},
   "source": [
    "Lifted Index is an indice used to assess low level parcel (in)stability of the troposphere. \n",
    "\n",
    "It represents difference in temperature between parcel of air raised from 50 mb above the surface to the 500 mb level compared to the 500 mb actual (environmental) temperature.\n",
    "\n",
    "Instability: A negative LI indicates that the PBL is unstable with respect to the middle troposphere. This is an environment in which convection can occur. The more negative the LI the more unstable the troposphere and the more buoyant the acceleration will be for rising parcels of air from the PBL."
   ]
  },
  {
   "cell_type": "code",
   "execution_count": 6,
   "metadata": {},
   "outputs": [],
   "source": [
    "LI = int(df2[df2['Parameter']=='LIFT computed using virtual temperature'].index.values.astype(int)[0])\n",
    "\n",
    "if (df2.iloc[LI]['Value'] < -6):\n",
    "    strong_storms = strong_storms + 2\n",
    "    moderate_storms = moderate_storms + 2\n",
    "        \n",
    "elif (df2.iloc[LI]['Value'] < -3 and df2.iloc[LI]['Value'] >= -6):\n",
    "    strong_storms = strong_storms + 1\n",
    "    moderate_storms = moderate_storms + 1\n",
    "    \n",
    "elif (df2.iloc[LI]['Value'] < 0 and df2.iloc[LI]['Value'] >= -3):\n",
    "    moderate_storms = moderate_storms + 1\n",
    "\n",
    "else:\n",
    "    strong_storms = strong_storms - 1\n",
    "    moderate_storms = moderate_storms - 1\n",
    "    no_storms = no_storms + 1"
   ]
  },
  {
   "cell_type": "markdown",
   "metadata": {},
   "source": [
    "#### Severe Weather Threat Index (sweat)"
   ]
  },
  {
   "cell_type": "markdown",
   "metadata": {},
   "source": [
    "Sweat uses several variables to determine the likeliness of severe weather and tornadoes. The SWEAT index assess low level moisture, convective environment (via TT), and changes in wind speed and direction with height (low level and middle level jet, horizontal vorticity). When all these factors occur together, the severe weather threat and tornado threat is enhanced. "
   ]
  },
  {
   "cell_type": "code",
   "execution_count": 7,
   "metadata": {},
   "outputs": [],
   "source": [
    "sweat = int(df2[df2['Parameter']=='SWEAT index'].index.values.astype(int)[0])\n",
    "\n",
    "if (df2.iloc[sweat]['Value'] >= 400):\n",
    "    supercells = supercells + 2\n",
    "    strong_storms = strong_storms + 3\n",
    "elif (df2.iloc[sweat]['Value'] >= 300 and df2.iloc[sweat]['Value'] < 400):\n",
    "    supercells = supercells + 1\n",
    "    strong_storms = strong_storms + 2\n",
    "elif (df2.iloc[sweat]['Value'] >= 150 and df2.iloc[sweat]['Value'] < 300):\n",
    "    strong_storms = strong_storms + 1\n",
    "else:\n",
    "    supercells = supercells - 1\n",
    "    strong_storms = strong_storms - 1"
   ]
  },
  {
   "cell_type": "markdown",
   "metadata": {},
   "source": [
    "#### K Index (KI)"
   ]
  },
  {
   "cell_type": "markdown",
   "metadata": {},
   "source": [
    "The K INDEX is an index used to assess convective potential. "
   ]
  },
  {
   "cell_type": "code",
   "execution_count": 8,
   "metadata": {},
   "outputs": [],
   "source": [
    "KI = int(df2[df2['Parameter']=='K index'].index.values.astype(int)[0])\n",
    "    \n",
    "if (df2.iloc[KI]['Value'] >= 40):\n",
    "    strong_storms = strong_storms + 2\n",
    "    moderate_storms = moderate_storms + 2\n",
    "elif (df2.iloc[KI]['Value'] >= 20 and df2.iloc[KI]['Value'] < 40):\n",
    "    strong_storms = strong_storms + 1\n",
    "    moderate_storms = moderate_storms + 1\n",
    "else:\n",
    "    strong_storms = strong_storms - 1\n",
    "    moderate_storms = moderate_storms - 1\n",
    "    no_storms = no_storms + 1"
   ]
  },
  {
   "cell_type": "markdown",
   "metadata": {},
   "source": [
    "#### Total totals (TT) Index"
   ]
  },
  {
   "cell_type": "markdown",
   "metadata": {},
   "source": [
    "The Total Totals is an index used to assess storm strength. "
   ]
  },
  {
   "cell_type": "code",
   "execution_count": 9,
   "metadata": {},
   "outputs": [],
   "source": [
    "TT = int(df2[df2['Parameter']=='Totals totals index'].index.values.astype(int)[0])\n",
    "    \n",
    "if (df2.iloc[TT]['Value'] >= 53):\n",
    "    supercells = supercells + 2\n",
    "    strong_storms = strong_storms + 2\n",
    "elif (df2.iloc[TT]['Value'] >= 51 and df2.iloc[TT]['Value'] < 53):\n",
    "    supercells = supercells + 1\n",
    "    strong_storms = strong_storms + 1\n",
    "    moderate_storms = moderate_storms + 1\n",
    "elif (df2.iloc[TT]['Value'] >= 44 and df2.iloc[TT]['Value'] < 50):\n",
    "    supercells = supercells - 1\n",
    "    strong_storms = strong_storms - 1\n",
    "    moderate_storms = moderate_storms + 1\n",
    "else:\n",
    "    supercells = supercells - 2\n",
    "    strong_storms = strong_storms - 2\n",
    "    moderate_storms = moderate_storms - 1\n",
    "    no_storms = no_storms + 1  "
   ]
  },
  {
   "cell_type": "markdown",
   "metadata": {},
   "source": [
    "#### Convective Available Potential Energy (CAPE) and Wind Shear 0-6 km (shear)"
   ]
  },
  {
   "cell_type": "markdown",
   "metadata": {},
   "source": [
    "Convective Available Potential Energy is the integration of the positive area on a Skew-T sounding. The positive area is that region where the theoretical parcel temperature is warmer than the actual temperature at each pressure level in the troposphere. The theoretical parcel temperature is the lapse rate(s) a parcel would take if raised from the lower PBL. \n",
    "\n",
    "High CAPE means storms will build vertically very quickly. The updraft speed depends on the CAPE environment.\n",
    "\n",
    "Hail: As CAPE increases (especially above 2,500 J/kg) the hail potential increases. Large hail requires very large CAPE values.\n",
    "\n",
    "Downdraft: An intense updraft often produces an intense downdraft since an intense updraft will condense out a large amount of moisture. Expect isolated regions of very heavy rain when storms form in a large or extreme CAPE environment.\n",
    "\n",
    "Lightning: Large and extreme CAPE will produce storms with abundant lightning. "
   ]
  },
  {
   "cell_type": "markdown",
   "metadata": {},
   "source": [
    "Wind shear is usually calculated as difference in wind speed between 0 and 6 km altitude since those are most important levels for storm development. Higher shear gives long living and better organised storms, especially if its combined with big directional shear - great for supercells and tornadoes."
   ]
  },
  {
   "cell_type": "code",
   "execution_count": 10,
   "metadata": {},
   "outputs": [],
   "source": [
    "CAPE = int(df2[df2['Parameter']=='CAPE using virtual temperature'].index.values.astype(int)[0])\n",
    "\n",
    "six = int(df1[df1['height'] >= 6000].index[0])\n",
    "dir_0km = df1['direction'].iloc[0]\n",
    "dir_6km = df1['direction'].iloc[six]\n",
    "speed_0km_x = df1['speed'].iloc[0] * math.cos(math.radians(-dir_0km+90))\n",
    "speed_0km_y = df1['speed'].iloc[0] * math.sin(math.radians(-dir_0km+90))\n",
    "speed_6km_x = df1['speed'].iloc[six] * math.cos(math.radians(-dir_6km+90))\n",
    "speed_6km_y = df1['speed'].iloc[six] * math.sin(math.radians(-dir_6km+90))\n",
    "shear = 0.514 * (math.sqrt((speed_6km_x - speed_0km_x)**2 + (speed_6km_y - speed_0km_y)**2))\n",
    "\n",
    "if (df2.iloc[CAPE]['Value'] >= 2000):\n",
    "    if (shear >= 20):\n",
    "        supercells = supercells + 7\n",
    "        strong_storms = strong_storms + 7\n",
    "    elif (shear >= 15 and shear < 20):\n",
    "        supercells = supercells + 6\n",
    "        strong_storms = strong_storms + 6\n",
    "    elif (shear >= 10 and shear < 15):\n",
    "        supercells = supercells + 3\n",
    "        strong_storms = strong_storms + 5\n",
    "    else:\n",
    "        strong_storms = strong_storms + 3\n",
    "        supercells = supercells - 3\n",
    "    moderate_storms = moderate_storms + 1\n",
    "    \n",
    "elif (df2.iloc[CAPE]['Value'] >= 1500 and df2.iloc[CAPE]['Value'] < 2000):\n",
    "    if (shear >= 20):\n",
    "        supercells = supercells + 6\n",
    "        strong_storms = strong_storms + 6\n",
    "    elif (shear >= 14.9 and shear < 20):\n",
    "        supercells = supercells + 5\n",
    "        strong_storms = strong_storms + 5\n",
    "    elif (shear >= 10 and shear < 14.9):\n",
    "        supercells = supercells + 3\n",
    "        strong_storms = strong_storms + 4\n",
    "    else:\n",
    "        strong_storms = strong_storms + 2\n",
    "        supercells = supercells - 3\n",
    "    moderate_storms = moderate_storms + 1\n",
    "    \n",
    "elif (df2.iloc[CAPE]['Value'] >= 1000 and df2.iloc[CAPE]['Value'] < 1500):\n",
    "    if (shear >= 20):\n",
    "        supercells = supercells + 5\n",
    "        strong_storms = strong_storms + 5\n",
    "    elif (shear >= 15 and shear <= 20):\n",
    "        supercells = supercells + 4\n",
    "        strong_storms = strong_storms + 4\n",
    "    elif (shear >= 10 and shear <= 15):\n",
    "        supercells = supercells + 2\n",
    "        strong_storms = strong_storms + 3\n",
    "    else:\n",
    "        strong_storms = strong_storms + 1\n",
    "        supercells = supercells - 3\n",
    "    moderate_storms = moderate_storms + 1\n",
    "    \n",
    "elif (df2.iloc[CAPE]['Value'] >= 500 and df2.iloc[CAPE]['Value'] < 1000):\n",
    "    if (shear >= 20):\n",
    "        supercells = supercells + 4\n",
    "        strong_storms = strong_storms + 4\n",
    "    elif (shear >= 15 and shear <= 20):\n",
    "        supercells = supercells + 3\n",
    "        strong_storms = strong_storms + 3\n",
    "    elif (shear >= 10 and shear <= 15):\n",
    "        strong_storms = strong_storms + 2\n",
    "        supercells = supercells - 1\n",
    "    else:\n",
    "        strong_storms = strong_storms - 1\n",
    "        supercells = supercells - 3\n",
    "    moderate_storms = moderate_storms + 1\n",
    "    \n",
    "elif (df2.iloc[CAPE]['Value'] >= 70 and df2.iloc[CAPE]['Value'] < 500):\n",
    "    if (shear >= 20):\n",
    "        supercells = supercells + 3\n",
    "        strong_storms = strong_storms + 3\n",
    "        moderate_storms = moderate_storms + 2\n",
    "    elif (shear >= 15 and shear <= 20):\n",
    "        strong_storms = strong_storms + 2\n",
    "        supercells = supercells - 1\n",
    "        moderate_storms = moderate_storms + 2\n",
    "    elif (shear >= 10 and shear <= 15):\n",
    "        moderate_storms = moderate_storms + 1\n",
    "        supercells = supercells - 3\n",
    "    else:\n",
    "        strong_storms = strong_storms - 1\n",
    "        supercells = supercells - 4\n",
    "        no_storms = no_storms + 1\n",
    "        \n",
    "elif (df2.iloc[CAPE]['Value'] < 70):\n",
    "    if (shear >= 20):\n",
    "        strong_storms = strong_storms + 2\n",
    "        moderate_storms = moderate_storms + 2\n",
    "    elif (shear >= 15 and shear <= 20):\n",
    "        supercells = supercells - 1\n",
    "        moderate_storms = moderate_storms + 1\n",
    "    else:\n",
    "        supercells = supercells - 3\n",
    "        strong_storms = strong_storms - 2\n",
    "        no_storms = no_storms + 1"
   ]
  },
  {
   "cell_type": "markdown",
   "metadata": {},
   "source": [
    "#### Convective Inhibition (CIN)"
   ]
  },
  {
   "cell_type": "markdown",
   "metadata": {},
   "source": [
    "Convective Inhibition is anti-CAPE (negative CAPE) in the lower troposphere. This is the region where a parcel of air if raised from the lower PBL would sink back down again. Another term for CIN is a capping layer. The capping layer must be broken before lower PBL based lifting is able to move into the +CAPE region of a sounding and develop into deep convection. \n",
    "\n",
    "CIN will be reduced by: 1) daytime heating, 2) synoptic upward forcing, 3) low level convergence, 4) low level warm air advection (especially if accompanied by higher dewpoints). CIN is most likely to be small in the late afternoon since daytime heating plays a crucial role in reducing it. "
   ]
  },
  {
   "cell_type": "code",
   "execution_count": 11,
   "metadata": {},
   "outputs": [],
   "source": [
    "CIN = int(df2[df2['Parameter']=='CINS using virtual temperature'].index.values.astype(int)[0])\n",
    "    \n",
    "if (df2.iloc[CIN]['Value'] <= -130 and df2.iloc[CAPE]['Value'] < 500):\n",
    "    supercells = supercells - 3\n",
    "    strong_storms = strong_storms - 3\n",
    "    moderate_storms = moderate_storms - 3\n",
    "    no_storms = no_storms + 3\n",
    "elif (df2.iloc[CIN]['Value'] <= -130 and df2.iloc[CAPE]['Value'] > 500):\n",
    "    supercells = supercells - 2\n",
    "    strong_storms = strong_storms - 2\n",
    "    moderate_storms = moderate_storms - 2\n",
    "    no_storms = no_storms + 2\n",
    "elif (df2.iloc[CIN]['Value'] <= -50 and df2.iloc[CIN]['Value'] > -130 and df2.iloc[CAPE]['Value'] < 200):\n",
    "    supercells = supercells - 3\n",
    "    strong_storms = strong_storms - 3\n",
    "    moderate_storms = moderate_storms - 3\n",
    "    no_storms = no_storms + 3\n",
    "elif (df2.iloc[CIN]['Value'] <= -50 and df2.iloc[CIN]['Value'] > -130 and df2.iloc[CAPE]['Value'] > 200):\n",
    "    supercells = supercells - 2\n",
    "    strong_storms = strong_storms - 2\n",
    "    moderate_storms = moderate_storms - 2\n",
    "    no_storms = no_storms + 2\n",
    "elif (df2.iloc[CIN]['Value'] > -50 and df2.iloc[CAPE]['Value'] < 90):\n",
    "    supercells = supercells - 3\n",
    "    strong_storms = strong_storms - 3\n",
    "    moderate_storms = moderate_storms - 3\n",
    "    no_storms = no_storms + 3\n",
    "elif (df2.iloc[CIN]['Value'] > -50 and df2.iloc[CAPE]['Value'] > 90 and df2.iloc[CAPE]['Value'] < 500):\n",
    "    supercells = supercells - 1\n",
    "    moderate_storms = moderate_storms + 1\n",
    "else:\n",
    "    supercells = supercells + 1\n",
    "    strong_storms = strong_storms + 1\n",
    "    moderate_storms = moderate_storms + 1"
   ]
  },
  {
   "cell_type": "markdown",
   "metadata": {},
   "source": [
    "#### Level of free convection (LFCT)"
   ]
  },
  {
   "cell_type": "markdown",
   "metadata": {},
   "source": [
    "Level of Free Convection is the lower boundary of the most significant region of CAPE in the troposphere. It is the point at which a lifted parcel of air will become equal in temperature to that of the environmental temperature. Once a parcel of air is lifted to the LFC it will rise buoyantly on its own all the way to the top of the CAPE region. It usually represents base of the cloud."
   ]
  },
  {
   "cell_type": "code",
   "execution_count": 12,
   "metadata": {},
   "outputs": [],
   "source": [
    "LFCT = int(df2[df2['Parameter']=='LFCT using virtual temperature'].index.values.astype(int)[0])\n",
    "\n",
    "pom = int(df1[df1['pressure'] <= df2.iloc[LFCT]['Value']].index[0])\n",
    "LFCT_level = df1['height'].iloc[pom]\n",
    "\n",
    "if (LFCT_level < 3150 and (moderate_storms >= 4 or strong_storms >= 6 or supercells >= 3)):\n",
    "    moderate_storms = moderate_storms + 1\n",
    "    strong_storms = strong_storms + 1\n",
    "    supercells = supercells + 1"
   ]
  },
  {
   "cell_type": "markdown",
   "metadata": {},
   "source": [
    "Last but not least, 'no storms' label needs to be boosted if signal for all other storm types is weak."
   ]
  },
  {
   "cell_type": "code",
   "execution_count": 14,
   "metadata": {},
   "outputs": [],
   "source": [
    "if (moderate_storms <= 3 and strong_storms <= 0 and supercells <= 0):\n",
    "    no_storms = no_storms + 2"
   ]
  },
  {
   "cell_type": "markdown",
   "metadata": {},
   "source": [
    "Determine percentage chance for each category by dividing its number of points with maximum available points."
   ]
  },
  {
   "cell_type": "code",
   "execution_count": 15,
   "metadata": {},
   "outputs": [],
   "source": [
    "x = ['No storms', 'Thunderstorms', 'Severe storms', 'Supercells']\n",
    "index = np.arange(len(x))     \n",
    "y = [no_storms/9*100, moderate_storms/9*100, strong_storms/18*100, supercells/13*100]\n",
    "for j in range(0, len(y)):\n",
    "    if (y[j] < 0):\n",
    "        y[j] = 0"
   ]
  },
  {
   "cell_type": "markdown",
   "metadata": {},
   "source": [
    "Plotting data:"
   ]
  },
  {
   "cell_type": "code",
   "execution_count": 16,
   "metadata": {},
   "outputs": [
    {
     "data": {
      "image/png": "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\n",
      "text/plain": [
       "<Figure size 1152x720 with 1 Axes>"
      ]
     },
     "metadata": {
      "needs_background": "light"
     },
     "output_type": "display_data"
    }
   ],
   "source": [
    "rcParams['figure.figsize'] = 16, 10\n",
    "\n",
    "plt.bar(index, y, align='center', color=['green', 'yellow', 'orange', 'red'],  edgecolor='blue')\n",
    "plt.xticks(index, x, fontsize = 20)\n",
    "plt.yticks(np.arange(0, 105, 5), fontsize = 20)\n",
    "plt.axhline(30, color=\"black\", linestyle='dashed')\n",
    "plt.text(3.65, 15, \"  Low \\nchance\", va='center', ha=\"left\",  fontsize = 15)\n",
    "plt.axhline(70, color=\"black\", linestyle='dashed')\n",
    "plt.text(3.65, 50, \"Medium \\nchance\", va='center', ha=\"left\", fontsize = 15)\n",
    "plt.text(3.65, 85, \"  High \\nchance\", va='center', ha=\"left\", fontsize = 15)\n",
    "a = 'Storm track for {day}.{month}.{year}. at {hour} UTC'.format\\\n",
    "(day = date.day, month = date.month, year = date.year, hour = date.hour)\n",
    "plt.title(a, fontsize = 30)\n",
    "plt.grid()"
   ]
  },
  {
   "cell_type": "markdown",
   "metadata": {},
   "source": [
    "### Warnings "
   ]
  },
  {
   "cell_type": "markdown",
   "metadata": {},
   "source": [
    "Determining storm direction. Same for supercells if signal for them if strong enough. "
   ]
  },
  {
   "cell_type": "code",
   "execution_count": 17,
   "metadata": {},
   "outputs": [
    {
     "name": "stdout",
     "output_type": "stream",
     "text": [
      "Storms are coming from W direction (253.0°).\n",
      "Supercells are coming from W direction (283.0°).\n"
     ]
    }
   ],
   "source": [
    "wind_direction = [['NE', 22.5, 67.5], ['E', 67.5, 112.5], ['SE', 112.5, 157.5], ['S', 157.5, 202.5],\\\n",
    "                  ['SW', 202.5, 247.5], ['W', 247.5, 292.5], ['NW', 292.5, 337.5]]\n",
    "df4 = pd.DataFrame(wind_direction, columns = ['Direction','UL','LL'])\n",
    "    \n",
    "storm_dir = round(df1['direction'].iloc[3:six].mean(), 2)\n",
    "\n",
    "for i in range (len(df4)):\n",
    "    if (storm_dir > df4['UL'].iloc[i] and storm_dir < df4['LL'].iloc[i]):\n",
    "        storm_dir_letter = df4['Direction'].iloc[i]\n",
    "    elif (storm_dir > 337.5 and storm_dir < 22.5):\n",
    "        storm_dir_letter = 'N'\n",
    "        \n",
    "if (supercells > 0):\n",
    "    supercell_dir = storm_dir + 30\n",
    "    for i in range (len(df4)):\n",
    "        if (supercell_dir > df4['UL'].iloc[i] and supercell_dir < df4['LL'].iloc[i]):\n",
    "            supercell_dir_letter = df4['Direction'].iloc[i]\n",
    "        elif (supercell_dir > 337.5 and supercell_dir < 22.5):\n",
    "            supercell_dir_letter = 'N'\n",
    "\n",
    "if (moderate_storms >= 1 or strong_storms >= 1 or supercells >= 1):\n",
    "    print('\\033[91m' + 'Storms are coming from {storm_dir_letter} direction ({storm_dir}°).'.format(storm_dir_letter = storm_dir_letter, storm_dir = storm_dir))\n",
    "\n",
    "if (supercells >= 1):\n",
    "    print('\\033[91m' + 'Supercells are coming from {supercell_dir_letter} direction ({supercell_dir}°).'.format(supercell_dir_letter = supercell_dir_letter, supercell_dir = supercell_dir))"
   ]
  },
  {
   "cell_type": "markdown",
   "metadata": {},
   "source": [
    "Hail and heavy rain warnings are based on convection type and CAPE value. Skinny profile brings heavy rain and fat profile brings severe weather with possible big hail.\n",
    "\n",
    "Lastly, tornado warining is issued if supercell signal is strong, shear is high enough and cloud base is low enough."
   ]
  },
  {
   "cell_type": "code",
   "execution_count": null,
   "metadata": {},
   "outputs": [],
   "source": [
    "if ('Equilibrum Level using virtual temperature' in y1):\n",
    "    EQLV_ind = int(df2[df2['Parameter']=='Equilibrum Level using virtual temperature'].index.values.astype(int)[0])\n",
    "    LCL_ind = int(df2[df2['Parameter']=='Pres [hPa] of the Lifted Condensation Level'].index.values.astype(int)[0])\n",
    "    PW = int(df2[df2['Parameter']=='Precipitable water [mm] for entire sounding'].index.values.astype(int)[0])\n",
    "    ind1 = int(df1[df1['pressure'] < df2.iloc[EQLV_ind]['Value']].index[0])\n",
    "    ind2 = int(df1[df1['pressure'] < df2.iloc[LCL_ind]['Value']].index[0])\n",
    "    EQLV = df1['height'].iloc[ind1]\n",
    "    LCL = df1['height'] .iloc[ind2]\n",
    "    \n",
    "    ind = int(df1[df1['temperature'] < 0].index[0])\n",
    "    hail_level = df1['pressure'].iloc[ind]\n",
    "    \n",
    "    if (EQLV - LCL > 7000 and df2.iloc[CAPE]['Value'] < 1000 and df2.iloc[PW]['Value'] > 43):\n",
    "        print('Heavy rain possible!')\n",
    "    elif ((EQLV - LCL > 7000 and df2.iloc[CAPE]['Value'] > 2000) or \\\n",
    "          (EQLV - LCL < 7000 and EQLV - LCL > 4000 and df2.iloc[CAPE]['Value'] > 1500)):\n",
    "        print('Big hail possible!')\n",
    "    elif (EQLV - LCL > 2000 and EQLV - LCL < 4000 and moderate_storms > 4):\n",
    "        print('Possible showers.') \n",
    "        \n",
    "if (LFCT_level < 2000 and supercells >= 6 and shear >= 22):\n",
    "    print('Tornado possible!')"
   ]
  },
  {
   "cell_type": "markdown",
   "metadata": {},
   "source": [
    "## Conclusion"
   ]
  },
  {
   "attachments": {
    "bilogora-stat.png": {
     "image/png":<img src="bilogora-stat.png">
    },
    "skewt.gif": {
     "image/gif": "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"
    }
   },
   "cell_type": "markdown",
   "metadata": {},
   "source": [
    "Results are pretty good, sounding area had very unstable afternoon that day. \n",
    "\n",
    "Doppler radar:\n",
    "\n",
    "![bilogora-stat.png](attachment:bilogora-stat.png)\n",
    "\n",
    "Skew T:\n",
    "\n",
    "![skewt.gif](attachment:skewt.gif)"
   ]
  }
 ],
 "metadata": {
  "kernelspec": {
   "display_name": "Python 3",
   "language": "python",
   "name": "python3"
  },
  "language_info": {
   "codemirror_mode": {
    "name": "ipython",
    "version": 3
   },
   "file_extension": ".py",
   "mimetype": "text/x-python",
   "name": "python",
   "nbconvert_exporter": "python",
   "pygments_lexer": "ipython3",
   "version": "3.6.8"
  }
 },
 "nbformat": 4,
 "nbformat_minor": 2
}
