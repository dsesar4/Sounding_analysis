{
 "cells": [
  {
   "cell_type": "markdown",
   "metadata": {},
   "source": [
    "# Sounding parameters analysis with regards to Skew T"
   ]
  },
  {
   "cell_type": "markdown",
   "metadata": {},
   "source": [
    "## Data aquisition and processing"
   ]
  },
  {
   "cell_type": "markdown",
   "metadata": {},
   "source": [
    "Import all needed libraries for analysis. Matplotlib, pandas and numpy are used for standard data analysis. Urllib, bs4 and re are used for web scrapping, data collection and processing. Siphon is used from Unidata's Library for faster and simpler sounding data collection in pandas format."
   ]
  },
  {
   "cell_type": "code",
   "execution_count": 1,
   "metadata": {},
   "outputs": [],
   "source": [
    "import matplotlib.pyplot as plt\n",
    "import pandas as pd\n",
    "import numpy as np\n",
    "import math\n",
    "\n",
    "from bs4 import BeautifulSoup\n",
    "import urllib.request\n",
    "import re\n",
    "\n",
    "from siphon.simplewebservice.wyoming import WyomingUpperAir\n",
    "from pylab import rcParams\n",
    "from datetime import datetime"
   ]
  },
  {
   "cell_type": "markdown",
   "metadata": {},
   "source": [
    "Enter desired date and station number (ID). Data is acquired from Wyoming University Website ( http://weather.uwyo.edu/upperair/sounding.html ). For more details on available stations, further research on website is recommended. Data for Zagreb is used here (ID = LDDD or 14240) and turbulent stormy day was chosen (7.7.2019.). Day, month and year data is available for atleast last ten years. Since the soundings are launched only at 0 and 12 UTC, those are only possible values for hours. Note: Mistakes are possible, especially regarding complete sounding data which could be missing for some days/hours."
   ]
  },
  {
   "cell_type": "code",
   "execution_count": 2,
   "metadata": {},
   "outputs": [],
   "source": [
    "date = datetime(2019,7,7,12)\n",
    "station = 'LDDD'"
   ]
  },
  {
   "cell_type": "markdown",
   "metadata": {},
   "source": [
    "Getting data into pandas Dataframe using Siphon Library. Adjusting size for plots. Data used for this analysis (df1) can be seen on this link (first table): http://weather.uwyo.edu/cgi-bin/sounding?region=europe&TYPE=TEXT%3ALIST&YEAR=2019&MONTH=07&FROM=0712&TO=0712&STNM=LDDD. "
   ]
  },
  {
   "cell_type": "code",
   "execution_count": 3,
   "metadata": {},
   "outputs": [],
   "source": [
    "df1 = WyomingUpperAir.request_data(date,station)"
   ]
  },
  {
   "cell_type": "markdown",
   "metadata": {},
   "source": [
    "Scrapping data from the same website. Since Siphon only fetches data from sounding levels (df1), various indices and parameters (same link from above, data under 'Station information and sounding indices') must be scrapped, cleaned and stored manually to dataframe df2. "
   ]
  },
  {
   "cell_type": "code",
   "execution_count": 4,
   "metadata": {},
   "outputs": [],
   "source": [
    "Year = date.year\n",
    "Month = date.month\n",
    "Day = date.day\n",
    "Hour = date.hour\n",
    "\n",
    "if (Month // 10 == 0):\n",
    "    Month = '0' + str(Month)\n",
    "    \n",
    "if (Day // 10 == 0):\n",
    "    Day = '0' + str(Day)\n",
    "    \n",
    "if (Hour == 0):\n",
    "    Hour = '0' + str(Hour)\n",
    "    \n",
    "url = 'http://weather.uwyo.edu/cgi-bin/sounding?region=europe&TYPE=TEXT%3ALIST'\\\n",
    "      '&YEAR={Year}&MONTH={Month}&FROM={Day}{Hour}&TO={Day}{Hour}&STNM={Station}'\\\n",
    "      .format(Year = Year, Month = Month, Day = Day, Hour = Hour, Station = station)\n",
    "\n",
    "response = urllib.request.urlopen(url)\n",
    "html = response.read()\n",
    "\n",
    "soup = BeautifulSoup(html,features=\"lxml\")\n",
    "data = soup.find_all('pre')\n",
    "\n",
    "Sound_data = str(data[1])\n",
    "x = re.findall(r'[-+]?[.]?[\\d].+', Sound_data)\n",
    "\n",
    "x1 = []\n",
    "\n",
    "i = 0\n",
    "for i in range(0, len(x)):\n",
    "    if (i != 1 and 'thickness' not in x[i]):\n",
    "        x[i] = float(x[i])\n",
    "        x1.append(x[i])\n",
    "    i = i + 1\n",
    "    \n",
    "y = ['Station number', 'Station latitude', 'Station longitude', 'Station elevation', \\\n",
    "     'Showalter index', 'Lifted index', 'LIFT computed using virtual temperature', 'SWEAT index', 'K index', \\\n",
    "     'Cross totals index', 'Vertical totals index', 'Totals totals index', 'Convective Available Potential Energy', \\\n",
    "     'CAPE using virtual temperature', 'Convective Inhibition', 'CINS using virtual temperature', 'Equilibrum Level', \\\n",
    "     'Equilibrum Level using virtual temperature', 'Level of Free Convection', 'LFCT using virtual temperature', \\\n",
    "     'Bulk Richardson Number', 'Bulk Richardson Number using CAPV', 'Temp [K] of the Lifted Condensation Level', \\\n",
    "     'Pres [hPa] of the Lifted Condensation Level', 'Mean mixed layer potential temperature', \\\n",
    "     'Mean mixed layer mixing ratio', 'Precipitable water [mm] for entire sounding']\n",
    "\n",
    "y1 = []\n",
    "\n",
    "j = 0\n",
    "for j in range(0, len(y)):\n",
    "    if (y[j] in Sound_data):\n",
    "        y1.append(y[j])\n",
    "    j = j + 1\n",
    "    \n",
    "all_data = {'Parameter': y1, 'Value': x1}\n",
    "\n",
    "df2 = pd.DataFrame(data = all_data)"
   ]
  },
  {
   "cell_type": "markdown",
   "metadata": {},
   "source": [
    "## Storm classification and rules of the game"
   ]
  },
  {
   "cell_type": "markdown",
   "metadata": {},
   "source": [
    "Now, when our data is ready, comes the fun part. \n",
    "\n",
    "Expected weather type is divided in four categories regarding their strength and attributes when present. \n",
    "\n",
    "Categories:\n",
    "\n",
    "1. No storms - Low chance for any kind of storm, maybe weak showers possible. Regardless of that, weather can still be cloudy or even rainy (snowy).\n",
    "\n",
    "2. Thunderstorms - Weak convective processes with showers and probably some thunder. Small hail and stronger wind gusts possible if certain conditions are met (rarely).\n",
    "\n",
    "3. Severe storms - Medium to strong convective processes with (heavy) rain, thunderstorms, strong wind gusts, (bigger) hail. \n",
    "\n",
    "4. Supercells - (Very) strong convective processes with possible extremly heavy rain, big hail, very high winds and even tornado. \n",
    "\n",
    "Each type gets or loses points if certain conditions are met. At the end of calculation, points gained for each type are divided by maximum possible points for each type of weather. In that way we get percentage of realization which can then be divided into three groups (low chance, medium chance, high chance). \n",
    "\n",
    "For starters, all are initialised to zero and maximum possible values are set.\n"
   ]
  },
  {
   "cell_type": "code",
   "execution_count": 5,
   "metadata": {},
   "outputs": [],
   "source": [
    "no_storms = 0\n",
    "moderate_storms = 0\n",
    "strong_storms = 0\n",
    "supercells = 0\n",
    "\n",
    "NS_max = 17\n",
    "MS_max = 8\n",
    "SS_max = 16\n",
    "SC_max = 11"
   ]
  },
  {
   "cell_type": "markdown",
   "metadata": {},
   "source": [
    "#### Lifted Index (LI)"
   ]
  },
  {
   "cell_type": "markdown",
   "metadata": {},
   "source": [
    "Lifted Index is an indice used to assess low level parcel (in)stability of the troposphere. \n",
    "\n",
    "It represents difference in temperature between parcel of air raised from 50 mb above the surface to the 500 mb level compared to the 500 mb actual (environmental) temperature.\n",
    "\n",
    "Instability: A negative LI indicates that the PBL is unstable with respect to the middle troposphere. This is an environment in which convection can occur. The more negative the LI the more unstable the troposphere and the more buoyant the acceleration will be for rising parcels of air from the PBL."
   ]
  },
  {
   "cell_type": "code",
   "execution_count": 6,
   "metadata": {},
   "outputs": [],
   "source": [
    "LI_ind = int(df2[df2['Parameter']=='LIFT computed using virtual temperature'].index.values.astype(int)[0])\n",
    "LI = df2.iloc[LI_ind]['Value']\n",
    "\n",
    "if (LI < -6):\n",
    "    strong_storms = strong_storms + 2\n",
    "    moderate_storms = moderate_storms + 2\n",
    "        \n",
    "elif (LI < -3 and LI >= -6):\n",
    "    strong_storms = strong_storms + 1\n",
    "    moderate_storms = moderate_storms + 1\n",
    "    \n",
    "elif (LI < 0 and LI >= -3):\n",
    "    moderate_storms = moderate_storms + 1\n",
    "\n",
    "else:\n",
    "    strong_storms = strong_storms - 1\n",
    "    moderate_storms = moderate_storms - 1\n",
    "    no_storms = no_storms + 1"
   ]
  },
  {
   "cell_type": "markdown",
   "metadata": {},
   "source": [
    "#### Severe Weather Threat Index (sweat)"
   ]
  },
  {
   "cell_type": "markdown",
   "metadata": {},
   "source": [
    "Sweat uses several variables to determine the likeliness of severe weather and tornadoes. The SWEAT index assess low level moisture, convective environment (via TT), and changes in wind speed and direction with height (low level and middle level jet, horizontal vorticity). When all these factors occur together, the severe weather threat and tornado threat is enhanced. "
   ]
  },
  {
   "cell_type": "code",
   "execution_count": 7,
   "metadata": {},
   "outputs": [],
   "source": [
    "sweat_ind = int(df2[df2['Parameter']=='SWEAT index'].index.values.astype(int)[0])\n",
    "sweat = df2.iloc[sweat_ind]['Value']\n",
    "\n",
    "if (sweat >= 400):\n",
    "    supercells = supercells + 2\n",
    "    strong_storms = strong_storms + 3\n",
    "elif (sweat >= 300 and sweat < 400):\n",
    "    supercells = supercells + 1\n",
    "    strong_storms = strong_storms + 2\n",
    "elif (sweat >= 150 and sweat < 300):\n",
    "    strong_storms = strong_storms + 1\n",
    "else:\n",
    "    supercells = supercells - 1\n",
    "    strong_storms = strong_storms - 1"
   ]
  },
  {
   "cell_type": "markdown",
   "metadata": {},
   "source": [
    "#### K Index (KI)"
   ]
  },
  {
   "cell_type": "markdown",
   "metadata": {},
   "source": [
    "The K INDEX is an index used to assess convective potential. "
   ]
  },
  {
   "cell_type": "code",
   "execution_count": 8,
   "metadata": {},
   "outputs": [],
   "source": [
    "KI_ind = int(df2[df2['Parameter']=='K index'].index.values.astype(int)[0])\n",
    "KI = df2.iloc[KI_ind]['Value']\n",
    "    \n",
    "if (KI >= 40):\n",
    "    strong_storms = strong_storms + 2\n",
    "    moderate_storms = moderate_storms + 2\n",
    "elif (KI >= 20 and KI < 40):\n",
    "    strong_storms = strong_storms + 1\n",
    "    moderate_storms = moderate_storms + 1\n",
    "else:\n",
    "    strong_storms = strong_storms - 1\n",
    "    moderate_storms = moderate_storms - 1\n",
    "    no_storms = no_storms + 1"
   ]
  },
  {
   "cell_type": "markdown",
   "metadata": {},
   "source": [
    "#### Total totals (TT) Index"
   ]
  },
  {
   "cell_type": "markdown",
   "metadata": {},
   "source": [
    "The Total Totals is an index used to assess storm strength. "
   ]
  },
  {
   "cell_type": "code",
   "execution_count": 9,
   "metadata": {},
   "outputs": [],
   "source": [
    "TT_ind = int(df2[df2['Parameter']=='Totals totals index'].index.values.astype(int)[0])\n",
    "TT = df2.iloc[TT_ind]['Value']\n",
    "    \n",
    "if (TT >= 53):\n",
    "    supercells = supercells + 2\n",
    "    strong_storms = strong_storms + 2\n",
    "elif (TT >= 51 and TT < 53):\n",
    "    supercells = supercells + 1\n",
    "    strong_storms = strong_storms + 1\n",
    "    moderate_storms = moderate_storms + 1\n",
    "elif (TT >= 44 and TT < 50):\n",
    "    supercells = supercells - 1\n",
    "    strong_storms = strong_storms - 1\n",
    "    moderate_storms = moderate_storms + 1\n",
    "else:\n",
    "    supercells = supercells - 2\n",
    "    strong_storms = strong_storms - 2\n",
    "    moderate_storms = moderate_storms - 1\n",
    "    no_storms = no_storms + 1  "
   ]
  },
  {
   "cell_type": "markdown",
   "metadata": {},
   "source": [
    "#### Convective Available Potential Energy (CAPE) and Wind Shear 0-6 km (shear)"
   ]
  },
  {
   "cell_type": "markdown",
   "metadata": {},
   "source": [
    "Convective Available Potential Energy is the integration of the positive area on a Skew-T sounding. The positive area is that region where the theoretical parcel temperature is warmer than the actual temperature at each pressure level in the troposphere. The theoretical parcel temperature is the lapse rate(s) a parcel would take if raised from the lower PBL. \n",
    "\n",
    "High CAPE means storms will build vertically very quickly. The updraft speed depends on the CAPE environment. High CAPE also brings potentially big hail, downdrafts and abundant lightning."
   ]
  },
  {
   "cell_type": "markdown",
   "metadata": {},
   "source": [
    "Wind shear is usually calculated as difference in wind speed between 0 and 6 km altitude since those are most important levels for storm development. Higher shear gives long living and better organised storms, especially if it's combined with big directional shear - great for supercells and tornadoes."
   ]
  },
  {
   "cell_type": "code",
   "execution_count": 10,
   "metadata": {},
   "outputs": [],
   "source": [
    "CAPE_ind = int(df2[df2['Parameter']=='CAPE using virtual temperature'].index.values.astype(int)[0])\n",
    "CAPE = df2.iloc[CAPE_ind]['Value']\n",
    "\n",
    "six_km = int(df1[df1['height'] >= 6000].index[0])\n",
    "dir_0km = df1['direction'].iloc[0]\n",
    "dir_6km = df1['direction'].iloc[six_km]\n",
    "speed_0km_x = df1['speed'].iloc[0] * math.cos(math.radians(-dir_0km+90))\n",
    "speed_0km_y = df1['speed'].iloc[0] * math.sin(math.radians(-dir_0km+90))\n",
    "speed_6km_x = df1['speed'].iloc[six_km] * math.cos(math.radians(-dir_6km+90))\n",
    "speed_6km_y = df1['speed'].iloc[six_km] * math.sin(math.radians(-dir_6km+90))\n",
    "shear = 0.514 * (math.sqrt((speed_6km_x - speed_0km_x)**2 + (speed_6km_y - speed_0km_y)**2))\n",
    "\n",
    "if (CAPE >= 2000):\n",
    "    if (shear >= 17.5):\n",
    "        supercells = supercells + 7\n",
    "        strong_storms = strong_storms + 7\n",
    "    elif (shear >= 12.5 and shear < 17.5):\n",
    "        supercells = supercells + 4\n",
    "        strong_storms = strong_storms + 6\n",
    "    else:\n",
    "        strong_storms = strong_storms + 5\n",
    "        supercells = supercells - 3\n",
    "    moderate_storms = moderate_storms + 3\n",
    "    \n",
    "elif (CAPE >= 1500 and CAPE < 2000):\n",
    "    if (shear >= 17.5):\n",
    "        supercells = supercells + 6\n",
    "        strong_storms = strong_storms + 6\n",
    "    elif (shear >= 12.5 and shear < 17.5):\n",
    "        supercells = supercells + 3\n",
    "        strong_storms = strong_storms + 5\n",
    "    else:\n",
    "        strong_storms = strong_storms + 4\n",
    "        supercells = supercells - 3\n",
    "    moderate_storms = moderate_storms + 3\n",
    "    \n",
    "elif (CAPE >= 1000 and CAPE < 1500):\n",
    "    if (shear >= 17.5):\n",
    "        supercells = supercells + 5\n",
    "        strong_storms = strong_storms + 5\n",
    "    elif (shear >= 12.5 and shear <= 17.5):\n",
    "        supercells = supercells + 2\n",
    "        strong_storms = strong_storms + 4\n",
    "    else:\n",
    "        strong_storms = strong_storms + 3\n",
    "        supercells = supercells - 3\n",
    "    moderate_storms = moderate_storms + 3\n",
    "    \n",
    "elif (CAPE >= 500 and CAPE < 1000):\n",
    "    if (shear >= 17.5):\n",
    "        supercells = supercells + 4\n",
    "        strong_storms = strong_storms + 4\n",
    "    elif (shear >= 12.5 and shear <= 17.5):\n",
    "        supercells = supercells + 1\n",
    "        strong_storms = strong_storms + 3\n",
    "    else:\n",
    "        supercells = supercells - 3\n",
    "    moderate_storms = moderate_storms + 3\n",
    "    \n",
    "elif (CAPE >= 100 and CAPE < 500):\n",
    "    if (shear >= 17.5):\n",
    "        supercells = supercells + 3\n",
    "        strong_storms = strong_storms + 3\n",
    "        moderate_storms = moderate_storms + 2\n",
    "    elif (shear >= 12.5 and shear <= 17.5):\n",
    "        strong_storms = strong_storms + 2\n",
    "        supercells = supercells - 1\n",
    "        moderate_storms = moderate_storms + 2\n",
    "    else:\n",
    "        strong_storms = strong_storms - 1\n",
    "        supercells = supercells - 4\n",
    "        no_storms = no_storms + 1\n",
    "        \n",
    "else:\n",
    "    if (shear >= 17.5):\n",
    "        strong_storms = strong_storms + 2\n",
    "        moderate_storms = moderate_storms + 2\n",
    "    else:\n",
    "        supercells = supercells - 3\n",
    "        strong_storms = strong_storms - 2\n",
    "        no_storms = no_storms + 2"
   ]
  },
  {
   "cell_type": "markdown",
   "metadata": {},
   "source": [
    "#### Convective Inhibition (CIN)"
   ]
  },
  {
   "cell_type": "markdown",
   "metadata": {},
   "source": [
    "Convective Inhibition is anti-CAPE (negative CAPE) in the lower troposphere. This is the region where a parcel of air if raised from the lower PBL would sink back down again. Another term for CIN is a capping layer. The capping layer must be broken before lower PBL based lifting is able to move into the +CAPE region of a sounding and develop into deep convection. \n",
    "\n",
    "CIN will be reduced by: 1) daytime heating, 2) synoptic upward forcing, 3) low level convergence, 4) low level warm air advection (especially if accompanied by higher dewpoints). CIN is most likely to be small in the late afternoon since daytime heating plays a crucial role in reducing it. "
   ]
  },
  {
   "cell_type": "code",
   "execution_count": 11,
   "metadata": {},
   "outputs": [],
   "source": [
    "CIN_ind = int(df2[df2['Parameter']=='CINS using virtual temperature'].index.values.astype(int)[0])\n",
    "CIN = df2.iloc[CIN_ind]['Value']\n",
    "    \n",
    "if (CIN <= -140 and CAPE < 500):\n",
    "    supercells = supercells - 5\n",
    "    strong_storms = strong_storms - 5\n",
    "    moderate_storms = moderate_storms - 5\n",
    "    no_storms = no_storms + 5\n",
    "elif (CIN <= -140 and CAPE >= 500):\n",
    "    supercells = supercells - 4\n",
    "    strong_storms = strong_storms - 4\n",
    "    moderate_storms = moderate_storms - 4\n",
    "    no_storms = no_storms + 4\n",
    "elif (CIN <= -60 and CIN > -140 and CAPE < 250):\n",
    "    supercells = supercells - 4\n",
    "    strong_storms = strong_storms - 4\n",
    "    moderate_storms = moderate_storms - 4\n",
    "    no_storms = no_storms + 4\n",
    "elif (CIN <= -60 and CIN > -140 and CAPE >= 250 and CAPE <= 700):\n",
    "    supercells = supercells - 3\n",
    "    strong_storms = strong_storms - 3\n",
    "    moderate_storms = moderate_storms - 3\n",
    "    no_storms = no_storms + 3\n",
    "elif (CIN <= -60 and CIN > -140 and CAPE > 700):\n",
    "    supercells = supercells - 2\n",
    "    strong_storms = strong_storms - 2\n",
    "    moderate_storms = moderate_storms - 2\n",
    "    no_storms = no_storms + 2\n",
    "elif (CIN > -60 and CIN <= -20 and CAPE < 90):\n",
    "    supercells = supercells - 3\n",
    "    strong_storms = strong_storms - 3\n",
    "    moderate_storms = moderate_storms - 3\n",
    "    no_storms = no_storms + 3\n",
    "elif (CIN > -60 and CIN <= -20 and CAPE > 90 and CAPE < 500):\n",
    "    supercells = supercells - 2\n",
    "    strong_storms = strong_storms - 2\n",
    "    moderate_storms = moderate_storms - 1\n",
    "    no_storms = no_storms + 1"
   ]
  },
  {
   "cell_type": "markdown",
   "metadata": {},
   "source": [
    "#### Level of free convection (LFCT)"
   ]
  },
  {
   "cell_type": "markdown",
   "metadata": {},
   "source": [
    "Level of Free Convection is the lower boundary of the most significant region of CAPE in the troposphere. It is the point at which a lifted parcel of air will become equal in temperature to that of the environmental temperature. Once a parcel of air is lifted to the LFC it will rise buoyantly on its own all the way to the top of the CAPE region. It usually represents base of the cloud."
   ]
  },
  {
   "cell_type": "code",
   "execution_count": 12,
   "metadata": {},
   "outputs": [],
   "source": [
    "if (df2['Parameter'].str.contains('LFCT using virtual temperature').any()):\n",
    "    LFCT = int(df2[df2['Parameter']=='LFCT using virtual temperature'].index.values.astype(int)[0])\n",
    "    pom = int(df1[df1['pressure'] <= df2.iloc[LFCT]['Value']].index[0])\n",
    "    LFCT_level = df1['height'].iloc[pom]\n",
    "\n",
    "    if (LFCT_level < 3150 and (moderate_storms >= 4 or strong_storms >= 6 or supercells >= 3)):\n",
    "        moderate_storms = moderate_storms + 1\n",
    "        strong_storms = strong_storms + 1\n",
    "        supercells = supercells + 1\n",
    "        MS_max = MS_max + 1\n",
    "        SS_max = SS_max + 1\n",
    "        SC_max = SC_max + 1"
   ]
  },
  {
   "cell_type": "markdown",
   "metadata": {},
   "source": [
    "Last but not least, 'no storms' label needs to be boosted if signal for all other storm types is weak."
   ]
  },
  {
   "cell_type": "code",
   "execution_count": 13,
   "metadata": {},
   "outputs": [],
   "source": [
    "if (moderate_storms <= 3 and strong_storms <= 5 and supercells <= 3):\n",
    "    no_storms = no_storms + 7"
   ]
  },
  {
   "cell_type": "markdown",
   "metadata": {},
   "source": [
    "Determine percentage chance for each category by dividing its number of points with maximum available points."
   ]
  },
  {
   "cell_type": "code",
   "execution_count": 14,
   "metadata": {},
   "outputs": [],
   "source": [
    "storm_array = ['No storms', 'Thunderstorms', 'Severe storms', 'Supercells']\n",
    "index = np.arange(len(storm_array))     \n",
    "storm_score = [no_storms/NS_max*100, moderate_storms/MS_max*100, strong_storms/SS_max*100, supercells/SC_max*100]\n",
    "for j in range(0, len(storm_score)):\n",
    "    if (storm_score[j] < 0):\n",
    "        storm_score[j] = 0"
   ]
  },
  {
   "cell_type": "markdown",
   "metadata": {},
   "source": [
    "Plotting data:"
   ]
  },
  {
   "cell_type": "code",
   "execution_count": 15,
   "metadata": {},
   "outputs": [
    {
     "data": {
      "image/png": "[encoded data removed]",
      "text/plain": [
       "<Figure size 1152x720 with 1 Axes>"
      ]
     },
     "metadata": {
      "needs_background": "light"
     },
     "output_type": "display_data"
    }
   ],
   "source": [
    "rcParams['figure.figsize'] = 16, 10\n",
    "\n",
    "plt.bar(index, storm_score, align='center', color=['green', 'yellow', 'orange', 'red'],  edgecolor='blue')\n",
    "plt.xticks(index, storm_array, fontsize = 20)\n",
    "plt.yticks(np.arange(0, 105, 5), fontsize = 20)\n",
    "plt.axhline(30, color=\"black\", linestyle='dashed')\n",
    "plt.text(3.65, 15, \"  Low \\nchance\", va='center', ha=\"left\",  fontsize = 15)\n",
    "plt.axhline(70, color=\"black\", linestyle='dashed')\n",
    "plt.text(3.65, 50, \"Medium \\nchance\", va='center', ha=\"left\", fontsize = 15)\n",
    "plt.text(3.65, 85, \"  High \\nchance\", va='center', ha=\"left\", fontsize = 15)\n",
    "a = 'Sounding analysis for {day}.{month}.{year}. at {hour} UTC'.format\\\n",
    "(day = date.day, month = date.month, year = date.year, hour = date.hour)\n",
    "plt.title(a, fontsize = 30)\n",
    "plt.grid()"
   ]
  },
  {
   "cell_type": "markdown",
   "metadata": {},
   "source": [
    "### Warnings "
   ]
  },
  {
   "cell_type": "markdown",
   "metadata": {},
   "source": [
    "Determining storm direction. Same for supercells if signal for them if strong enough. "
   ]
  },
  {
   "cell_type": "code",
   "execution_count": 16,
   "metadata": {},
   "outputs": [
    {
     "name": "stdout",
     "output_type": "stream",
     "text": [
      "\u001b[1mStorms are coming from W direction (258.06°).\n",
      "\u001b[1mSupercells are coming from W direction (288.06°).\n"
     ]
    }
   ],
   "source": [
    "wind_direction = [['NE', 22.5, 67.5], ['E', 67.5, 112.5], ['SE', 112.5, 157.5], ['S', 157.5, 202.5],\\\n",
    "                  ['SW', 202.5, 247.5], ['W', 247.5, 292.5], ['NW', 292.5, 337.5]]\n",
    "df4 = pd.DataFrame(wind_direction, columns = ['Direction','UL','LL'])\n",
    "    \n",
    "storm_dir = round(df1['direction'].iloc[6:six_km].mean(), 2)\n",
    "\n",
    "for i in range (len(df4)):\n",
    "    if (storm_dir > df4['UL'].iloc[i] and storm_dir < df4['LL'].iloc[i]):\n",
    "        storm_dir_letter = df4['Direction'].iloc[i]\n",
    "    elif (storm_dir > 337.5 and storm_dir < 22.5):\n",
    "        storm_dir_letter = 'N'\n",
    "        \n",
    "if (supercells > 0):\n",
    "    supercell_dir = storm_dir + 30\n",
    "    for i in range (len(df4)):\n",
    "        if (supercell_dir > df4['UL'].iloc[i] and supercell_dir < df4['LL'].iloc[i]):\n",
    "            supercell_dir_letter = df4['Direction'].iloc[i]\n",
    "        elif (supercell_dir > 337.5 and supercell_dir < 22.5):\n",
    "            supercell_dir_letter = 'N'\n",
    "\n",
    "if (moderate_storms >= 1 or strong_storms >= 1 or supercells >= 1):\n",
    "    print('\\033[1m' + 'Storms are coming from {storm_dir_letter} direction ({storm_dir}°).'\\\n",
    "                .format(storm_dir_letter = storm_dir_letter, storm_dir = storm_dir))\n",
    "\n",
    "if (supercells >= 1):\n",
    "    print('\\033[1m' + 'Supercells are coming from {supercell_dir_letter} direction ({supercell_dir}°).'\\\n",
    "                .format(supercell_dir_letter = supercell_dir_letter, supercell_dir = supercell_dir))"
   ]
  },
  {
   "cell_type": "markdown",
   "metadata": {},
   "source": [
    "Hail and heavy rain warnings are based on convection type and CAPE value. Skinny profile brings heavy rain and fat profile brings severe weather with possible big hail.\n",
    "\n",
    "Lastly, tornado warining is issued if supercell signal is strong, shear is high enough and cloud base is low enough."
   ]
  },
  {
   "cell_type": "code",
   "execution_count": 17,
   "metadata": {},
   "outputs": [],
   "source": [
    "if ('Equilibrum Level using virtual temperature' in y1):\n",
    "    EQLV_ind = int(df2[df2['Parameter']=='Equilibrum Level using virtual temperature'].index.values.astype(int)[0])\n",
    "    LCL_ind = int(df2[df2['Parameter']=='Pres [hPa] of the Lifted Condensation Level'].index.values.astype(int)[0])\n",
    "    PW_ind = int(df2[df2['Parameter']=='Precipitable water [mm] for entire sounding'].index.values.astype(int)[0])\n",
    "    PW = df2.iloc[PW_ind]['Value']\n",
    "    ind1 = int(df1[df1['pressure'] < df2.iloc[EQLV_ind]['Value']].index[0])\n",
    "    ind2 = int(df1[df1['pressure'] < df2.iloc[LCL_ind]['Value']].index[0])\n",
    "    EQLV = df1['height'].iloc[ind1]\n",
    "    LCL = df1['height'] .iloc[ind2]\n",
    "    \n",
    "    ind = int(df1[df1['temperature'] < 0].index[0])\n",
    "    hail_level = df1['pressure'].iloc[ind]\n",
    "    \n",
    "    if (EQLV - LCL > 7000 and CAPE > 1000 and PW > 41):\n",
    "        print('Heavy rain possible!')\n",
    "    elif ((EQLV - LCL > 7000 and CAPE > 2000) or \\\n",
    "          (EQLV - LCL < 7000 and EQLV - LCL > 4000 and CAPE > 1500)):\n",
    "        print('Big hail possible!')\n",
    "    elif (EQLV - LCL > 2000 and EQLV - LCL < 4000 and moderate_storms > 4):\n",
    "        print('Possible showers.') \n",
    "        \n",
    "if (SC_max == 13):\n",
    "    if (LFCT_level < 2000 and supercells >= 6 and shear >= 22):\n",
    "        print('Tornado possible!')"
   ]
  },
  {
   "cell_type": "markdown",
   "metadata": {},
   "source": [
    "## Conclusion"
   ]
  },
  {
   "cell_type": "markdown",
   "metadata": {},
   "source": [
    "Results are pretty good, sounding area had very unstable afternoon that day. \n",
    "\n",
    "Doppler radar animation (ZG):\n",
    "\n",
    "https://imagizer.imageshack.com/img923/4663/jsARcO.gif\n",
    "\n",
    "Skew T:\n",
    "\n",
    "http://weather.uwyo.edu/cgi-bin/sounding?region=europe&TYPE=GIF%3ASKEWT&YEAR=2019&MONTH=07&FROM=0712&TO=0712&STNM=LDDD"
   ]
  }
 ],
 "metadata": {
  "kernelspec": {
   "display_name": "Python 3",
   "language": "python",
   "name": "python3"
  },
  "language_info": {
   "codemirror_mode": {
    "name": "ipython",
    "version": 3
   },
   "file_extension": ".py",
   "mimetype": "text/x-python",
   "name": "python",
   "nbconvert_exporter": "python",
   "pygments_lexer": "ipython3",
   "version": "3.6.8"
  }
 },
 "nbformat": 4,
 "nbformat_minor": 2
}
